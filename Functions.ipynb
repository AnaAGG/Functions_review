{
 "cells": [
  {
   "cell_type": "markdown",
   "id": "6b74f021",
   "metadata": {
    "toc": true
   },
   "source": [
    "<h1>Table of Contents<span class=\"tocSkip\"></span></h1>\n",
    "<div class=\"toc\"><ul class=\"toc-item\"><li><span><a href=\"#Ejercicios-para-poner-en-práctica-las-funciones-sencillas\" data-toc-modified-id=\"Ejercicios-para-poner-en-práctica-las-funciones-sencillas-1\"><span class=\"toc-item-num\">1&nbsp;&nbsp;</span>Ejercicios para poner en práctica las funciones sencillas</a></span><ul class=\"toc-item\"><li><span><a href=\"#Realiza-una-función-llamada-relacion(a,-b)-que-a-partir-de-dos-números-cumpla-lo-siguiente:\" data-toc-modified-id=\"Realiza-una-función-llamada-relacion(a,-b)-que-a-partir-de-dos-números-cumpla-lo-siguiente:-1.1\"><span class=\"toc-item-num\">1.1&nbsp;&nbsp;</span>Realiza una función llamada <strong>relacion(a, b)</strong> que a partir de dos números cumpla lo siguiente:</a></span></li><li><span><a href=\"#Realiza-una-función-separar(lista)-que-tome-una-lista-de-números-enteros-y-devuelva-dos-listas-ordenadas.-La-primera-con-los-números-pares-y-la-segunda-con-los-números-impares.\" data-toc-modified-id=\"Realiza-una-función-separar(lista)-que-tome-una-lista-de-números-enteros-y-devuelva-dos-listas-ordenadas.-La-primera-con-los-números-pares-y-la-segunda-con-los-números-impares.-1.2\"><span class=\"toc-item-num\">1.2&nbsp;&nbsp;</span>Realiza una función separar(lista) que tome una lista de números enteros y devuelva dos listas ordenadas. La primera con los números pares y la segunda con los números impares.</a></span></li><li><span><a href=\"#Realiza-una-función-mayuscula(string)-que-tome-un-string-como-parámetro-y-devuelva-ese-mismo-string-en-mayúsculas.\" data-toc-modified-id=\"Realiza-una-función-mayuscula(string)-que-tome-un-string-como-parámetro-y-devuelva-ese-mismo-string-en-mayúsculas.-1.3\"><span class=\"toc-item-num\">1.3&nbsp;&nbsp;</span>Realiza una función mayuscula(string) que tome un string como parámetro y devuelva ese mismo string en mayúsculas.</a></span></li><li><span><a href=\"#Realiza-una-función-frase(string)-que-tome-una-frase-y-devuelva-ese-mismo-string-dividido-sin-las-vocales\" data-toc-modified-id=\"Realiza-una-función-frase(string)-que-tome-una-frase-y-devuelva-ese-mismo-string-dividido-sin-las-vocales-1.4\"><span class=\"toc-item-num\">1.4&nbsp;&nbsp;</span>Realiza una función frase(string) que tome una frase y devuelva ese mismo string dividido sin las vocales</a></span></li></ul></li><li><span><a href=\"#Ejercicios-para-poner-en-práctica-las-funciones-con-dataframes\" data-toc-modified-id=\"Ejercicios-para-poner-en-práctica-las-funciones-con-dataframes-2\"><span class=\"toc-item-num\">2&nbsp;&nbsp;</span>Ejercicios para poner en práctica las funciones con dataframes</a></span><ul class=\"toc-item\"><li><span><a href=\"#Realiza-una-función--sexo(col)-que-tome-la-columan-sex-y-me-devuelva-Masculino-y-Femenino:\" data-toc-modified-id=\"Realiza-una-función--sexo(col)-que-tome-la-columan-sex-y-me-devuelva-Masculino-y-Femenino:-2.1\"><span class=\"toc-item-num\">2.1&nbsp;&nbsp;</span>Realiza una función  <code>sexo(col)</code> que tome la columan <code>sex</code> y me devuelva Masculino y Femenino:</a></span></li><li><span><a href=\"#Realiza-una-función-fecha(df)-que-tome-las-columnas-de-month,-day-y-year-y-nos-cree-una-nueva-columna-con-la-fecha-completa\" data-toc-modified-id=\"Realiza-una-función-fecha(df)-que-tome-las-columnas-de-month,-day-y-year-y-nos-cree-una-nueva-columna-con-la-fecha-completa-2.2\"><span class=\"toc-item-num\">2.2&nbsp;&nbsp;</span>Realiza una función <code>fecha(df)</code> que tome las columnas de <code>month</code>, <code>day</code> y <code>year</code> y nos cree una nueva columna con la fecha completa</a></span></li></ul></li><li><span><a href=\"#Ahora-trabajaremos-con-el-csv-de-los-tiburones\" data-toc-modified-id=\"Ahora-trabajaremos-con-el-csv-de-los-tiburones-3\"><span class=\"toc-item-num\">3&nbsp;&nbsp;</span>Ahora trabajaremos con el <code>csv</code> de los tiburones</a></span></li></ul></div>"
   ]
  },
  {
   "cell_type": "markdown",
   "id": "5f60d371",
   "metadata": {},
   "source": [
    "## Ejercicios para poner en práctica las funciones sencillas"
   ]
  },
  {
   "cell_type": "markdown",
   "id": "38a56f31",
   "metadata": {},
   "source": [
    "### Realiza una función llamada **relacion(a, b)** que a partir de dos números cumpla lo siguiente:\n",
    "\n",
    "- Si el primer número es mayor que el segundo, debe devolver 1.\n",
    "- Si el primer número es menor que el segundo, debe devolver -1.\n",
    "- Si ambos números son iguales, debe devolver un 0."
   ]
  },
  {
   "cell_type": "code",
   "execution_count": 16,
   "id": "3f6e69a1",
   "metadata": {},
   "outputs": [],
   "source": [
    "num1 = 19\n",
    "num2 = 10"
   ]
  },
  {
   "cell_type": "code",
   "execution_count": 17,
   "id": "b09e1c49",
   "metadata": {},
   "outputs": [
    {
     "name": "stdout",
     "output_type": "stream",
     "text": [
      "-1\n"
     ]
    }
   ],
   "source": [
    "if num1 > num2:\n",
    "    print(-1)\n",
    "elif num1 < num2:\n",
    "    print(1)\n",
    "else:\n",
    "    print(0)"
   ]
  },
  {
   "cell_type": "code",
   "execution_count": null,
   "id": "4d26e53c",
   "metadata": {},
   "outputs": [],
   "source": [
    "def relacion():\n",
    "    return "
   ]
  },
  {
   "cell_type": "markdown",
   "id": "daadb085",
   "metadata": {},
   "source": [
    "### Realiza una función separar(lista) que tome una lista de números enteros y devuelva dos listas ordenadas. La primera con los números pares y la segunda con los números impares.\n",
    "\n"
   ]
  },
  {
   "cell_type": "code",
   "execution_count": 18,
   "id": "a37184e6",
   "metadata": {},
   "outputs": [],
   "source": [
    "numbers = [1,2,3,4,5,6,7,8,9,10]"
   ]
  },
  {
   "cell_type": "code",
   "execution_count": 19,
   "id": "11d68bf1",
   "metadata": {},
   "outputs": [],
   "source": [
    "par = []\n",
    "impar = []"
   ]
  },
  {
   "cell_type": "code",
   "execution_count": 21,
   "id": "d08190c6",
   "metadata": {},
   "outputs": [],
   "source": [
    "for i in numbers:\n",
    "    if i % 2 == 0:\n",
    "        par.append(i)\n",
    "    else:\n",
    "        impar.append(i)"
   ]
  },
  {
   "cell_type": "code",
   "execution_count": 22,
   "id": "a2495b47",
   "metadata": {},
   "outputs": [
    {
     "data": {
      "text/plain": [
       "[2, 4, 6, 8, 10]"
      ]
     },
     "execution_count": 22,
     "metadata": {},
     "output_type": "execute_result"
    }
   ],
   "source": [
    "par"
   ]
  },
  {
   "cell_type": "code",
   "execution_count": 23,
   "id": "d63290f1",
   "metadata": {},
   "outputs": [
    {
     "data": {
      "text/plain": [
       "[1, 3, 5, 7, 9]"
      ]
     },
     "execution_count": 23,
     "metadata": {},
     "output_type": "execute_result"
    }
   ],
   "source": [
    "impar"
   ]
  },
  {
   "cell_type": "code",
   "execution_count": null,
   "id": "6b2ddbb3",
   "metadata": {},
   "outputs": [],
   "source": [
    "def separar():\n",
    "    return "
   ]
  },
  {
   "cell_type": "markdown",
   "id": "f919a914",
   "metadata": {},
   "source": [
    "### Realiza una función mayuscula(string) que tome un string como parámetro y devuelva ese mismo string en mayúsculas. "
   ]
  },
  {
   "cell_type": "code",
   "execution_count": 24,
   "id": "381e0ed9",
   "metadata": {},
   "outputs": [],
   "source": [
    "frase = \"hola que tal\""
   ]
  },
  {
   "cell_type": "code",
   "execution_count": 25,
   "id": "e2571093",
   "metadata": {},
   "outputs": [
    {
     "data": {
      "text/plain": [
       "'HOLA QUE TAL'"
      ]
     },
     "execution_count": 25,
     "metadata": {},
     "output_type": "execute_result"
    }
   ],
   "source": [
    "frase.upper()"
   ]
  },
  {
   "cell_type": "code",
   "execution_count": null,
   "id": "f0b90158",
   "metadata": {},
   "outputs": [],
   "source": [
    "def mayuscula():\n",
    "    return \n",
    "     "
   ]
  },
  {
   "cell_type": "markdown",
   "id": "dd749d3f",
   "metadata": {},
   "source": [
    "### Realiza una función frase(string) que tome una frase y devuelva ese mismo string dividido sin las vocales\n",
    "\n",
    "*Hint* Podemos usar regex para sacar esta función (usando el método **sub**"
   ]
  },
  {
   "cell_type": "code",
   "execution_count": null,
   "id": "7befd7da",
   "metadata": {},
   "outputs": [],
   "source": [
    "import re\n",
    "\n",
    "def frase(string):\n",
    "    return"
   ]
  },
  {
   "cell_type": "markdown",
   "id": "39d25a53",
   "metadata": {},
   "source": [
    "## Ejercicios para poner en práctica las funciones con dataframes"
   ]
  },
  {
   "cell_type": "markdown",
   "id": "acb9cbea",
   "metadata": {},
   "source": [
    "Lo primero que tenemos que hacer es cargar el fichero `survey.csv` que será con el que trabajaremos"
   ]
  },
  {
   "cell_type": "code",
   "execution_count": 2,
   "id": "9ff72a3c",
   "metadata": {},
   "outputs": [],
   "source": [
    "import pandas as pd"
   ]
  },
  {
   "cell_type": "code",
   "execution_count": 81,
   "id": "d44fc74f",
   "metadata": {},
   "outputs": [
    {
     "data": {
      "text/html": [
       "<div>\n",
       "<style scoped>\n",
       "    .dataframe tbody tr th:only-of-type {\n",
       "        vertical-align: middle;\n",
       "    }\n",
       "\n",
       "    .dataframe tbody tr th {\n",
       "        vertical-align: top;\n",
       "    }\n",
       "\n",
       "    .dataframe thead th {\n",
       "        text-align: right;\n",
       "    }\n",
       "</style>\n",
       "<table border=\"1\" class=\"dataframe\">\n",
       "  <thead>\n",
       "    <tr style=\"text-align: right;\">\n",
       "      <th></th>\n",
       "      <th>record_id</th>\n",
       "      <th>month</th>\n",
       "      <th>day</th>\n",
       "      <th>year</th>\n",
       "      <th>plot_id</th>\n",
       "      <th>species_id</th>\n",
       "      <th>sex</th>\n",
       "      <th>hindfoot_length</th>\n",
       "      <th>weight</th>\n",
       "    </tr>\n",
       "  </thead>\n",
       "  <tbody>\n",
       "    <tr>\n",
       "      <th>0</th>\n",
       "      <td>1</td>\n",
       "      <td>7</td>\n",
       "      <td>16</td>\n",
       "      <td>1977</td>\n",
       "      <td>2</td>\n",
       "      <td>NL</td>\n",
       "      <td>M</td>\n",
       "      <td>32.0</td>\n",
       "      <td>NaN</td>\n",
       "    </tr>\n",
       "    <tr>\n",
       "      <th>1</th>\n",
       "      <td>2</td>\n",
       "      <td>7</td>\n",
       "      <td>16</td>\n",
       "      <td>1977</td>\n",
       "      <td>3</td>\n",
       "      <td>NL</td>\n",
       "      <td>M</td>\n",
       "      <td>33.0</td>\n",
       "      <td>NaN</td>\n",
       "    </tr>\n",
       "    <tr>\n",
       "      <th>2</th>\n",
       "      <td>3</td>\n",
       "      <td>7</td>\n",
       "      <td>16</td>\n",
       "      <td>1977</td>\n",
       "      <td>2</td>\n",
       "      <td>DM</td>\n",
       "      <td>F</td>\n",
       "      <td>37.0</td>\n",
       "      <td>NaN</td>\n",
       "    </tr>\n",
       "    <tr>\n",
       "      <th>3</th>\n",
       "      <td>4</td>\n",
       "      <td>7</td>\n",
       "      <td>16</td>\n",
       "      <td>1977</td>\n",
       "      <td>7</td>\n",
       "      <td>DM</td>\n",
       "      <td>M</td>\n",
       "      <td>36.0</td>\n",
       "      <td>NaN</td>\n",
       "    </tr>\n",
       "    <tr>\n",
       "      <th>4</th>\n",
       "      <td>5</td>\n",
       "      <td>7</td>\n",
       "      <td>16</td>\n",
       "      <td>1977</td>\n",
       "      <td>3</td>\n",
       "      <td>DM</td>\n",
       "      <td>M</td>\n",
       "      <td>35.0</td>\n",
       "      <td>NaN</td>\n",
       "    </tr>\n",
       "  </tbody>\n",
       "</table>\n",
       "</div>"
      ],
      "text/plain": [
       "   record_id  month  day  year  plot_id species_id sex  hindfoot_length  \\\n",
       "0          1      7   16  1977        2         NL   M             32.0   \n",
       "1          2      7   16  1977        3         NL   M             33.0   \n",
       "2          3      7   16  1977        2         DM   F             37.0   \n",
       "3          4      7   16  1977        7         DM   M             36.0   \n",
       "4          5      7   16  1977        3         DM   M             35.0   \n",
       "\n",
       "   weight  \n",
       "0     NaN  \n",
       "1     NaN  \n",
       "2     NaN  \n",
       "3     NaN  \n",
       "4     NaN  "
      ]
     },
     "execution_count": 81,
     "metadata": {},
     "output_type": "execute_result"
    }
   ],
   "source": [
    "df = pd.read_csv(\"surveys.csv\")\n",
    "df.head()"
   ]
  },
  {
   "cell_type": "markdown",
   "id": "c217bb99",
   "metadata": {},
   "source": [
    "### Realiza una función  `sexo(col)` que tome la columan `sex` y me devuelva Masculino y Femenino: \n",
    "\n",
    "- Las M como masculino\n",
    "- Las F como femenino"
   ]
  },
  {
   "cell_type": "code",
   "execution_count": 82,
   "id": "102bb822",
   "metadata": {},
   "outputs": [],
   "source": [
    "def cambio_sex (i):\n",
    "    if i == \"M\": \n",
    "        return \"Masculino\"\n",
    "    elif i == \"F\":\n",
    "        return \"Femenino\"\n",
    "    else: \n",
    "        return \"No data\"\n",
    "            "
   ]
  },
  {
   "cell_type": "code",
   "execution_count": 83,
   "id": "b0759663",
   "metadata": {
    "scrolled": true
   },
   "outputs": [],
   "source": [
    "df[\"sex\"] = df[\"sex\"].apply(cambio_sex)"
   ]
  },
  {
   "cell_type": "code",
   "execution_count": 84,
   "id": "2872ed2d",
   "metadata": {
    "scrolled": true
   },
   "outputs": [
    {
     "data": {
      "text/html": [
       "<div>\n",
       "<style scoped>\n",
       "    .dataframe tbody tr th:only-of-type {\n",
       "        vertical-align: middle;\n",
       "    }\n",
       "\n",
       "    .dataframe tbody tr th {\n",
       "        vertical-align: top;\n",
       "    }\n",
       "\n",
       "    .dataframe thead th {\n",
       "        text-align: right;\n",
       "    }\n",
       "</style>\n",
       "<table border=\"1\" class=\"dataframe\">\n",
       "  <thead>\n",
       "    <tr style=\"text-align: right;\">\n",
       "      <th></th>\n",
       "      <th>record_id</th>\n",
       "      <th>month</th>\n",
       "      <th>day</th>\n",
       "      <th>year</th>\n",
       "      <th>plot_id</th>\n",
       "      <th>species_id</th>\n",
       "      <th>sex</th>\n",
       "      <th>hindfoot_length</th>\n",
       "      <th>weight</th>\n",
       "    </tr>\n",
       "  </thead>\n",
       "  <tbody>\n",
       "    <tr>\n",
       "      <th>0</th>\n",
       "      <td>1</td>\n",
       "      <td>7</td>\n",
       "      <td>16</td>\n",
       "      <td>1977</td>\n",
       "      <td>2</td>\n",
       "      <td>NL</td>\n",
       "      <td>Masculino</td>\n",
       "      <td>32.0</td>\n",
       "      <td>NaN</td>\n",
       "    </tr>\n",
       "  </tbody>\n",
       "</table>\n",
       "</div>"
      ],
      "text/plain": [
       "   record_id  month  day  year  plot_id species_id        sex  \\\n",
       "0          1      7   16  1977        2         NL  Masculino   \n",
       "\n",
       "   hindfoot_length  weight  \n",
       "0             32.0     NaN  "
      ]
     },
     "execution_count": 84,
     "metadata": {},
     "output_type": "execute_result"
    }
   ],
   "source": [
    "df.head(1)"
   ]
  },
  {
   "cell_type": "markdown",
   "id": "1250db9b",
   "metadata": {},
   "source": [
    "### Realiza una función `fecha(df)` que tome las columnas de `month`, `day` y `year` y nos cree una nueva columna con la fecha completa"
   ]
  },
  {
   "cell_type": "code",
   "execution_count": 85,
   "id": "4b9084d3",
   "metadata": {},
   "outputs": [],
   "source": [
    "def fecha(df):\n",
    "    return str(df['year']) + \"-\" + str(df['month']) + \"-\" + str(df['day'])"
   ]
  },
  {
   "cell_type": "code",
   "execution_count": 86,
   "id": "c2e0737e",
   "metadata": {},
   "outputs": [],
   "source": [
    "df[\"date\"] = df.apply(fecha, axis = 1)"
   ]
  },
  {
   "cell_type": "code",
   "execution_count": 87,
   "id": "8fcab3c5",
   "metadata": {},
   "outputs": [
    {
     "data": {
      "text/html": [
       "<div>\n",
       "<style scoped>\n",
       "    .dataframe tbody tr th:only-of-type {\n",
       "        vertical-align: middle;\n",
       "    }\n",
       "\n",
       "    .dataframe tbody tr th {\n",
       "        vertical-align: top;\n",
       "    }\n",
       "\n",
       "    .dataframe thead th {\n",
       "        text-align: right;\n",
       "    }\n",
       "</style>\n",
       "<table border=\"1\" class=\"dataframe\">\n",
       "  <thead>\n",
       "    <tr style=\"text-align: right;\">\n",
       "      <th></th>\n",
       "      <th>record_id</th>\n",
       "      <th>month</th>\n",
       "      <th>day</th>\n",
       "      <th>year</th>\n",
       "      <th>plot_id</th>\n",
       "      <th>species_id</th>\n",
       "      <th>sex</th>\n",
       "      <th>hindfoot_length</th>\n",
       "      <th>weight</th>\n",
       "      <th>date</th>\n",
       "    </tr>\n",
       "  </thead>\n",
       "  <tbody>\n",
       "    <tr>\n",
       "      <th>0</th>\n",
       "      <td>1</td>\n",
       "      <td>7</td>\n",
       "      <td>16</td>\n",
       "      <td>1977</td>\n",
       "      <td>2</td>\n",
       "      <td>NL</td>\n",
       "      <td>Masculino</td>\n",
       "      <td>32.0</td>\n",
       "      <td>NaN</td>\n",
       "      <td>1977-7-16</td>\n",
       "    </tr>\n",
       "    <tr>\n",
       "      <th>1</th>\n",
       "      <td>2</td>\n",
       "      <td>7</td>\n",
       "      <td>16</td>\n",
       "      <td>1977</td>\n",
       "      <td>3</td>\n",
       "      <td>NL</td>\n",
       "      <td>Masculino</td>\n",
       "      <td>33.0</td>\n",
       "      <td>NaN</td>\n",
       "      <td>1977-7-16</td>\n",
       "    </tr>\n",
       "    <tr>\n",
       "      <th>2</th>\n",
       "      <td>3</td>\n",
       "      <td>7</td>\n",
       "      <td>16</td>\n",
       "      <td>1977</td>\n",
       "      <td>2</td>\n",
       "      <td>DM</td>\n",
       "      <td>Femenino</td>\n",
       "      <td>37.0</td>\n",
       "      <td>NaN</td>\n",
       "      <td>1977-7-16</td>\n",
       "    </tr>\n",
       "    <tr>\n",
       "      <th>3</th>\n",
       "      <td>4</td>\n",
       "      <td>7</td>\n",
       "      <td>16</td>\n",
       "      <td>1977</td>\n",
       "      <td>7</td>\n",
       "      <td>DM</td>\n",
       "      <td>Masculino</td>\n",
       "      <td>36.0</td>\n",
       "      <td>NaN</td>\n",
       "      <td>1977-7-16</td>\n",
       "    </tr>\n",
       "    <tr>\n",
       "      <th>4</th>\n",
       "      <td>5</td>\n",
       "      <td>7</td>\n",
       "      <td>16</td>\n",
       "      <td>1977</td>\n",
       "      <td>3</td>\n",
       "      <td>DM</td>\n",
       "      <td>Masculino</td>\n",
       "      <td>35.0</td>\n",
       "      <td>NaN</td>\n",
       "      <td>1977-7-16</td>\n",
       "    </tr>\n",
       "  </tbody>\n",
       "</table>\n",
       "</div>"
      ],
      "text/plain": [
       "   record_id  month  day  year  plot_id species_id        sex  \\\n",
       "0          1      7   16  1977        2         NL  Masculino   \n",
       "1          2      7   16  1977        3         NL  Masculino   \n",
       "2          3      7   16  1977        2         DM   Femenino   \n",
       "3          4      7   16  1977        7         DM  Masculino   \n",
       "4          5      7   16  1977        3         DM  Masculino   \n",
       "\n",
       "   hindfoot_length  weight       date  \n",
       "0             32.0     NaN  1977-7-16  \n",
       "1             33.0     NaN  1977-7-16  \n",
       "2             37.0     NaN  1977-7-16  \n",
       "3             36.0     NaN  1977-7-16  \n",
       "4             35.0     NaN  1977-7-16  "
      ]
     },
     "execution_count": 87,
     "metadata": {},
     "output_type": "execute_result"
    }
   ],
   "source": [
    "df.head()"
   ]
  },
  {
   "cell_type": "markdown",
   "id": "38cb36a7",
   "metadata": {},
   "source": [
    "La función `apply()` aplica la función de entrada a cada elemento a lo largo de la `columna` o `columnas` del dataset"
   ]
  },
  {
   "cell_type": "markdown",
   "id": "58e8f3ba",
   "metadata": {},
   "source": [
    "## Ahora trabajaremos con el `csv` de los tiburones"
   ]
  },
  {
   "cell_type": "code",
   "execution_count": 5,
   "id": "394b18dd",
   "metadata": {},
   "outputs": [
    {
     "data": {
      "text/html": [
       "<div>\n",
       "<style scoped>\n",
       "    .dataframe tbody tr th:only-of-type {\n",
       "        vertical-align: middle;\n",
       "    }\n",
       "\n",
       "    .dataframe tbody tr th {\n",
       "        vertical-align: top;\n",
       "    }\n",
       "\n",
       "    .dataframe thead th {\n",
       "        text-align: right;\n",
       "    }\n",
       "</style>\n",
       "<table border=\"1\" class=\"dataframe\">\n",
       "  <thead>\n",
       "    <tr style=\"text-align: right;\">\n",
       "      <th></th>\n",
       "      <th>Case Number</th>\n",
       "      <th>Date</th>\n",
       "      <th>Year</th>\n",
       "      <th>Type</th>\n",
       "      <th>Country</th>\n",
       "      <th>Area</th>\n",
       "      <th>Location</th>\n",
       "      <th>Activity</th>\n",
       "      <th>Name</th>\n",
       "      <th>Sex</th>\n",
       "      <th>...</th>\n",
       "      <th>Species</th>\n",
       "      <th>Investigator or Source</th>\n",
       "      <th>pdf</th>\n",
       "      <th>href formula</th>\n",
       "      <th>href</th>\n",
       "      <th>Case Number.1</th>\n",
       "      <th>Case Number.2</th>\n",
       "      <th>original order</th>\n",
       "      <th>Unnamed: 22</th>\n",
       "      <th>Unnamed: 23</th>\n",
       "    </tr>\n",
       "  </thead>\n",
       "  <tbody>\n",
       "    <tr>\n",
       "      <th>0</th>\n",
       "      <td>2018.06.25</td>\n",
       "      <td>25-Jun-2018</td>\n",
       "      <td>2018.0</td>\n",
       "      <td>Boating</td>\n",
       "      <td>USA</td>\n",
       "      <td>California</td>\n",
       "      <td>Oceanside, San Diego County</td>\n",
       "      <td>Paddling</td>\n",
       "      <td>Julie Wolfe</td>\n",
       "      <td>F</td>\n",
       "      <td>...</td>\n",
       "      <td>White shark</td>\n",
       "      <td>R. Collier, GSAF</td>\n",
       "      <td>2018.06.25-Wolfe.pdf</td>\n",
       "      <td>http://sharkattackfile.net/spreadsheets/pdf_di...</td>\n",
       "      <td>http://sharkattackfile.net/spreadsheets/pdf_di...</td>\n",
       "      <td>2018.06.25</td>\n",
       "      <td>2018.06.25</td>\n",
       "      <td>6303.0</td>\n",
       "      <td>NaN</td>\n",
       "      <td>NaN</td>\n",
       "    </tr>\n",
       "    <tr>\n",
       "      <th>1</th>\n",
       "      <td>2018.06.18</td>\n",
       "      <td>18-Jun-2018</td>\n",
       "      <td>2018.0</td>\n",
       "      <td>Unprovoked</td>\n",
       "      <td>USA</td>\n",
       "      <td>Georgia</td>\n",
       "      <td>St. Simon Island, Glynn County</td>\n",
       "      <td>Standing</td>\n",
       "      <td>Adyson McNeely</td>\n",
       "      <td>F</td>\n",
       "      <td>...</td>\n",
       "      <td>NaN</td>\n",
       "      <td>K.McMurray, TrackingSharks.com</td>\n",
       "      <td>2018.06.18-McNeely.pdf</td>\n",
       "      <td>http://sharkattackfile.net/spreadsheets/pdf_di...</td>\n",
       "      <td>http://sharkattackfile.net/spreadsheets/pdf_di...</td>\n",
       "      <td>2018.06.18</td>\n",
       "      <td>2018.06.18</td>\n",
       "      <td>6302.0</td>\n",
       "      <td>NaN</td>\n",
       "      <td>NaN</td>\n",
       "    </tr>\n",
       "    <tr>\n",
       "      <th>2</th>\n",
       "      <td>2018.06.09</td>\n",
       "      <td>09-Jun-2018</td>\n",
       "      <td>2018.0</td>\n",
       "      <td>Invalid</td>\n",
       "      <td>USA</td>\n",
       "      <td>Hawaii</td>\n",
       "      <td>Habush, Oahu</td>\n",
       "      <td>Surfing</td>\n",
       "      <td>John Denges</td>\n",
       "      <td>M</td>\n",
       "      <td>...</td>\n",
       "      <td>NaN</td>\n",
       "      <td>K.McMurray, TrackingSharks.com</td>\n",
       "      <td>2018.06.09-Denges.pdf</td>\n",
       "      <td>http://sharkattackfile.net/spreadsheets/pdf_di...</td>\n",
       "      <td>http://sharkattackfile.net/spreadsheets/pdf_di...</td>\n",
       "      <td>2018.06.09</td>\n",
       "      <td>2018.06.09</td>\n",
       "      <td>6301.0</td>\n",
       "      <td>NaN</td>\n",
       "      <td>NaN</td>\n",
       "    </tr>\n",
       "    <tr>\n",
       "      <th>3</th>\n",
       "      <td>2018.06.08</td>\n",
       "      <td>08-Jun-2018</td>\n",
       "      <td>2018.0</td>\n",
       "      <td>Unprovoked</td>\n",
       "      <td>AUSTRALIA</td>\n",
       "      <td>New South Wales</td>\n",
       "      <td>Arrawarra Headland</td>\n",
       "      <td>Surfing</td>\n",
       "      <td>male</td>\n",
       "      <td>M</td>\n",
       "      <td>...</td>\n",
       "      <td>2 m shark</td>\n",
       "      <td>B. Myatt, GSAF</td>\n",
       "      <td>2018.06.08-Arrawarra.pdf</td>\n",
       "      <td>http://sharkattackfile.net/spreadsheets/pdf_di...</td>\n",
       "      <td>http://sharkattackfile.net/spreadsheets/pdf_di...</td>\n",
       "      <td>2018.06.08</td>\n",
       "      <td>2018.06.08</td>\n",
       "      <td>6300.0</td>\n",
       "      <td>NaN</td>\n",
       "      <td>NaN</td>\n",
       "    </tr>\n",
       "    <tr>\n",
       "      <th>4</th>\n",
       "      <td>2018.06.04</td>\n",
       "      <td>04-Jun-2018</td>\n",
       "      <td>2018.0</td>\n",
       "      <td>Provoked</td>\n",
       "      <td>MEXICO</td>\n",
       "      <td>Colima</td>\n",
       "      <td>La Ticla</td>\n",
       "      <td>Free diving</td>\n",
       "      <td>Gustavo Ramos</td>\n",
       "      <td>M</td>\n",
       "      <td>...</td>\n",
       "      <td>Tiger shark, 3m</td>\n",
       "      <td>A .Kipper</td>\n",
       "      <td>2018.06.04-Ramos.pdf</td>\n",
       "      <td>http://sharkattackfile.net/spreadsheets/pdf_di...</td>\n",
       "      <td>http://sharkattackfile.net/spreadsheets/pdf_di...</td>\n",
       "      <td>2018.06.04</td>\n",
       "      <td>2018.06.04</td>\n",
       "      <td>6299.0</td>\n",
       "      <td>NaN</td>\n",
       "      <td>NaN</td>\n",
       "    </tr>\n",
       "  </tbody>\n",
       "</table>\n",
       "<p>5 rows × 24 columns</p>\n",
       "</div>"
      ],
      "text/plain": [
       "  Case Number         Date    Year        Type    Country             Area  \\\n",
       "0  2018.06.25  25-Jun-2018  2018.0     Boating        USA       California   \n",
       "1  2018.06.18  18-Jun-2018  2018.0  Unprovoked        USA          Georgia   \n",
       "2  2018.06.09  09-Jun-2018  2018.0     Invalid        USA           Hawaii   \n",
       "3  2018.06.08  08-Jun-2018  2018.0  Unprovoked  AUSTRALIA  New South Wales   \n",
       "4  2018.06.04  04-Jun-2018  2018.0    Provoked     MEXICO           Colima   \n",
       "\n",
       "                         Location     Activity             Name Sex   ...  \\\n",
       "0     Oceanside, San Diego County     Paddling      Julie Wolfe    F  ...   \n",
       "1  St. Simon Island, Glynn County     Standing  Adyson McNeely     F  ...   \n",
       "2                    Habush, Oahu      Surfing      John Denges    M  ...   \n",
       "3              Arrawarra Headland      Surfing             male    M  ...   \n",
       "4                        La Ticla  Free diving   Gustavo Ramos     M  ...   \n",
       "\n",
       "          Species           Investigator or Source                       pdf  \\\n",
       "0      White shark                R. Collier, GSAF      2018.06.25-Wolfe.pdf   \n",
       "1              NaN  K.McMurray, TrackingSharks.com    2018.06.18-McNeely.pdf   \n",
       "2              NaN  K.McMurray, TrackingSharks.com     2018.06.09-Denges.pdf   \n",
       "3        2 m shark                  B. Myatt, GSAF  2018.06.08-Arrawarra.pdf   \n",
       "4  Tiger shark, 3m                       A .Kipper      2018.06.04-Ramos.pdf   \n",
       "\n",
       "                                        href formula  \\\n",
       "0  http://sharkattackfile.net/spreadsheets/pdf_di...   \n",
       "1  http://sharkattackfile.net/spreadsheets/pdf_di...   \n",
       "2  http://sharkattackfile.net/spreadsheets/pdf_di...   \n",
       "3  http://sharkattackfile.net/spreadsheets/pdf_di...   \n",
       "4  http://sharkattackfile.net/spreadsheets/pdf_di...   \n",
       "\n",
       "                                                href Case Number.1  \\\n",
       "0  http://sharkattackfile.net/spreadsheets/pdf_di...    2018.06.25   \n",
       "1  http://sharkattackfile.net/spreadsheets/pdf_di...    2018.06.18   \n",
       "2  http://sharkattackfile.net/spreadsheets/pdf_di...    2018.06.09   \n",
       "3  http://sharkattackfile.net/spreadsheets/pdf_di...    2018.06.08   \n",
       "4  http://sharkattackfile.net/spreadsheets/pdf_di...    2018.06.04   \n",
       "\n",
       "  Case Number.2 original order Unnamed: 22 Unnamed: 23  \n",
       "0    2018.06.25         6303.0         NaN         NaN  \n",
       "1    2018.06.18         6302.0         NaN         NaN  \n",
       "2    2018.06.09         6301.0         NaN         NaN  \n",
       "3    2018.06.08         6300.0         NaN         NaN  \n",
       "4    2018.06.04         6299.0         NaN         NaN  \n",
       "\n",
       "[5 rows x 24 columns]"
      ]
     },
     "execution_count": 5,
     "metadata": {},
     "output_type": "execute_result"
    }
   ],
   "source": [
    "df2 = pd.read_csv(\"data/attacks.csv\",encoding = \"ISO-8859-1\") #To load the data csv\n",
    "df2.head()"
   ]
  },
  {
   "cell_type": "code",
   "execution_count": null,
   "id": "24d261ef",
   "metadata": {},
   "outputs": [],
   "source": []
  }
 ],
 "metadata": {
  "kernelspec": {
   "display_name": "ironhack",
   "language": "python",
   "name": "ironhack"
  },
  "language_info": {
   "codemirror_mode": {
    "name": "ipython",
    "version": 3
   },
   "file_extension": ".py",
   "mimetype": "text/x-python",
   "name": "python",
   "nbconvert_exporter": "python",
   "pygments_lexer": "ipython3",
   "version": "3.8.5"
  },
  "toc": {
   "base_numbering": 1,
   "nav_menu": {},
   "number_sections": true,
   "sideBar": true,
   "skip_h1_title": false,
   "title_cell": "Table of Contents",
   "title_sidebar": "Contents",
   "toc_cell": true,
   "toc_position": {},
   "toc_section_display": true,
   "toc_window_display": false
  }
 },
 "nbformat": 4,
 "nbformat_minor": 5
}
