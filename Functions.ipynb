{
 "cells": [
  {
   "cell_type": "markdown",
   "id": "6b74f021",
   "metadata": {
    "toc": true
   },
   "source": [
    "<h1>Table of Contents<span class=\"tocSkip\"></span></h1>\n",
    "<div class=\"toc\"><ul class=\"toc-item\"><li><span><a href=\"#Ejercicios-para-poner-en-práctica-las-funciones-sencillas\" data-toc-modified-id=\"Ejercicios-para-poner-en-práctica-las-funciones-sencillas-1\"><span class=\"toc-item-num\">1&nbsp;&nbsp;</span>Ejercicios para poner en práctica las funciones sencillas</a></span><ul class=\"toc-item\"><li><span><a href=\"#Realiza-una-función-llamada-relacion(a,-b)-que-a-partir-de-dos-números-cumpla-lo-siguiente:\" data-toc-modified-id=\"Realiza-una-función-llamada-relacion(a,-b)-que-a-partir-de-dos-números-cumpla-lo-siguiente:-1.1\"><span class=\"toc-item-num\">1.1&nbsp;&nbsp;</span>Realiza una función llamada <strong>relacion(a, b)</strong> que a partir de dos números cumpla lo siguiente:</a></span></li><li><span><a href=\"#Realiza-una-función-separar(lista)-que-tome-una-lista-de-números-enteros-y-devuelva-dos-listas-ordenadas.-La-primera-con-los-números-pares-y-la-segunda-con-los-números-impares.\" data-toc-modified-id=\"Realiza-una-función-separar(lista)-que-tome-una-lista-de-números-enteros-y-devuelva-dos-listas-ordenadas.-La-primera-con-los-números-pares-y-la-segunda-con-los-números-impares.-1.2\"><span class=\"toc-item-num\">1.2&nbsp;&nbsp;</span>Realiza una función separar(lista) que tome una lista de números enteros y devuelva dos listas ordenadas. La primera con los números pares y la segunda con los números impares.</a></span></li><li><span><a href=\"#Realiza-una-función-mayuscula(string)-que-tome-un-string-como-parámetro-y-devuelva-ese-mismo-string-en-mayúsculas.\" data-toc-modified-id=\"Realiza-una-función-mayuscula(string)-que-tome-un-string-como-parámetro-y-devuelva-ese-mismo-string-en-mayúsculas.-1.3\"><span class=\"toc-item-num\">1.3&nbsp;&nbsp;</span>Realiza una función mayuscula(string) que tome un string como parámetro y devuelva ese mismo string en mayúsculas.</a></span></li><li><span><a href=\"#Realiza-una-función-frase(string)-que-tome-una-frase-y-devuelva-ese-mismo-string-dividido-sin-las-vocales\" data-toc-modified-id=\"Realiza-una-función-frase(string)-que-tome-una-frase-y-devuelva-ese-mismo-string-dividido-sin-las-vocales-1.4\"><span class=\"toc-item-num\">1.4&nbsp;&nbsp;</span>Realiza una función frase(string) que tome una frase y devuelva ese mismo string dividido sin las vocales</a></span></li></ul></li><li><span><a href=\"#Ejercicios-para-poner-en-práctica-las-funciones-con-dataframes\" data-toc-modified-id=\"Ejercicios-para-poner-en-práctica-las-funciones-con-dataframes-2\"><span class=\"toc-item-num\">2&nbsp;&nbsp;</span>Ejercicios para poner en práctica las funciones con dataframes</a></span><ul class=\"toc-item\"><li><span><a href=\"#Realiza-una-función--sexo(col)-que-tome-la-columan-sex-y-me-devuelva-Masculino-y-Femenino:\" data-toc-modified-id=\"Realiza-una-función--sexo(col)-que-tome-la-columan-sex-y-me-devuelva-Masculino-y-Femenino:-2.1\"><span class=\"toc-item-num\">2.1&nbsp;&nbsp;</span>Realiza una función  <code>sexo(col)</code> que tome la columan <code>sex</code> y me devuelva Masculino y Femenino:</a></span></li><li><span><a href=\"#Realiza-una-función-fecha(df)-que-tome-las-columnas-de-month,-day-y-year-y-nos-cree-una-nueva-columna-con-la-fecha-completa\" data-toc-modified-id=\"Realiza-una-función-fecha(df)-que-tome-las-columnas-de-month,-day-y-year-y-nos-cree-una-nueva-columna-con-la-fecha-completa-2.2\"><span class=\"toc-item-num\">2.2&nbsp;&nbsp;</span>Realiza una función <code>fecha(df)</code> que tome las columnas de <code>month</code>, <code>day</code> y <code>year</code> y nos cree una nueva columna con la fecha completa</a></span></li><li><span><a href=\"#Vamos-a-meter-estos-datos-en-Mongo-con-una-función\" data-toc-modified-id=\"Vamos-a-meter-estos-datos-en-Mongo-con-una-función-2.3\"><span class=\"toc-item-num\">2.3&nbsp;&nbsp;</span>Vamos a meter estos datos en Mongo con una función</a></span></li></ul></li><li><span><a href=\"#Ahora-trabajaremos-con-el-csv-de-los-tiburones\" data-toc-modified-id=\"Ahora-trabajaremos-con-el-csv-de-los-tiburones-3\"><span class=\"toc-item-num\">3&nbsp;&nbsp;</span>Ahora trabajaremos con el <code>csv</code> de los tiburones</a></span><ul class=\"toc-item\"><li><span><a href=\"#Vamos-a-trabajar-con-la-columna-de-Fatal-(Y/N)\" data-toc-modified-id=\"Vamos-a-trabajar-con-la-columna-de-Fatal-(Y/N)-3.1\"><span class=\"toc-item-num\">3.1&nbsp;&nbsp;</span>Vamos a trabajar con la columna de <strong>Fatal (Y/N)</strong></a></span></li><li><span><a href=\"#Columna-de-Age\" data-toc-modified-id=\"Columna-de-Age-3.2\"><span class=\"toc-item-num\">3.2&nbsp;&nbsp;</span>Columna de <code>Age</code></a></span></li></ul></li></ul></div>"
   ]
  },
  {
   "cell_type": "markdown",
   "id": "5f60d371",
   "metadata": {},
   "source": [
    "## Ejercicios para poner en práctica las funciones sencillas"
   ]
  },
  {
   "cell_type": "markdown",
   "id": "38a56f31",
   "metadata": {},
   "source": [
    "### Realiza una función llamada **relacion(a, b)** que a partir de dos números cumpla lo siguiente:\n",
    "\n",
    "- Si el primer número es mayor que el segundo, debe devolver 1.\n",
    "- Si el primer número es menor que el segundo, debe devolver -1.\n",
    "- Si ambos números son iguales, debe devolver un 0."
   ]
  },
  {
   "cell_type": "code",
   "execution_count": null,
   "id": "3f6e69a1",
   "metadata": {},
   "outputs": [],
   "source": [
    "num1 = 19\n",
    "num2 = 10"
   ]
  },
  {
   "cell_type": "code",
   "execution_count": null,
   "id": "b09e1c49",
   "metadata": {},
   "outputs": [],
   "source": [
    "if num1 > num2:\n",
    "    print(-1)\n",
    "elif num1 < num2:\n",
    "    print(1)\n",
    "else:\n",
    "    print(0)"
   ]
  },
  {
   "cell_type": "code",
   "execution_count": null,
   "id": "4d26e53c",
   "metadata": {},
   "outputs": [],
   "source": [
    "def relacion():\n",
    "    return "
   ]
  },
  {
   "cell_type": "markdown",
   "id": "daadb085",
   "metadata": {},
   "source": [
    "### Realiza una función separar(lista) que tome una lista de números enteros y devuelva dos listas ordenadas. La primera con los números pares y la segunda con los números impares.\n",
    "\n"
   ]
  },
  {
   "cell_type": "code",
   "execution_count": null,
   "id": "a37184e6",
   "metadata": {},
   "outputs": [],
   "source": [
    "numbers = [1,2,3,4,5,6,7,8,9,10]"
   ]
  },
  {
   "cell_type": "code",
   "execution_count": null,
   "id": "11d68bf1",
   "metadata": {},
   "outputs": [],
   "source": [
    "par = []\n",
    "impar = []"
   ]
  },
  {
   "cell_type": "code",
   "execution_count": null,
   "id": "d08190c6",
   "metadata": {},
   "outputs": [],
   "source": [
    "for i in numbers:\n",
    "    if i % 2 == 0:\n",
    "        par.append(i)\n",
    "    else:\n",
    "        impar.append(i)"
   ]
  },
  {
   "cell_type": "code",
   "execution_count": null,
   "id": "a2495b47",
   "metadata": {},
   "outputs": [],
   "source": [
    "par"
   ]
  },
  {
   "cell_type": "code",
   "execution_count": null,
   "id": "d63290f1",
   "metadata": {},
   "outputs": [],
   "source": [
    "impar"
   ]
  },
  {
   "cell_type": "code",
   "execution_count": null,
   "id": "6b2ddbb3",
   "metadata": {},
   "outputs": [],
   "source": [
    "def separar():\n",
    "    return "
   ]
  },
  {
   "cell_type": "markdown",
   "id": "f919a914",
   "metadata": {},
   "source": [
    "### Realiza una función mayuscula(string) que tome un string como parámetro y devuelva ese mismo string en mayúsculas. "
   ]
  },
  {
   "cell_type": "code",
   "execution_count": null,
   "id": "381e0ed9",
   "metadata": {},
   "outputs": [],
   "source": [
    "frase = \"hola que tal\""
   ]
  },
  {
   "cell_type": "code",
   "execution_count": null,
   "id": "e2571093",
   "metadata": {},
   "outputs": [],
   "source": [
    "frase.upper()"
   ]
  },
  {
   "cell_type": "code",
   "execution_count": null,
   "id": "f0b90158",
   "metadata": {},
   "outputs": [],
   "source": [
    "def mayuscula():\n",
    "    return \n",
    "     "
   ]
  },
  {
   "cell_type": "markdown",
   "id": "dd749d3f",
   "metadata": {},
   "source": [
    "### Realiza una función frase(string) que tome una frase y devuelva ese mismo string dividido sin las vocales\n",
    "\n",
    "*Hint* Podemos usar regex para sacar esta función (usando el método **sub**"
   ]
  },
  {
   "cell_type": "code",
   "execution_count": null,
   "id": "7befd7da",
   "metadata": {},
   "outputs": [],
   "source": [
    "import re\n",
    "\n",
    "def frase(string):\n",
    "    return"
   ]
  },
  {
   "cell_type": "markdown",
   "id": "39d25a53",
   "metadata": {},
   "source": [
    "## Ejercicios para poner en práctica las funciones con dataframes"
   ]
  },
  {
   "cell_type": "markdown",
   "id": "acb9cbea",
   "metadata": {},
   "source": [
    "Lo primero que tenemos que hacer es cargar el fichero `survey.csv` que será con el que trabajaremos"
   ]
  },
  {
   "cell_type": "code",
   "execution_count": 16,
   "id": "9ff72a3c",
   "metadata": {},
   "outputs": [],
   "source": [
    "import pandas as pd\n",
    "import numpy as np"
   ]
  },
  {
   "cell_type": "code",
   "execution_count": 211,
   "id": "d44fc74f",
   "metadata": {},
   "outputs": [
    {
     "data": {
      "text/html": [
       "<div>\n",
       "<style scoped>\n",
       "    .dataframe tbody tr th:only-of-type {\n",
       "        vertical-align: middle;\n",
       "    }\n",
       "\n",
       "    .dataframe tbody tr th {\n",
       "        vertical-align: top;\n",
       "    }\n",
       "\n",
       "    .dataframe thead th {\n",
       "        text-align: right;\n",
       "    }\n",
       "</style>\n",
       "<table border=\"1\" class=\"dataframe\">\n",
       "  <thead>\n",
       "    <tr style=\"text-align: right;\">\n",
       "      <th></th>\n",
       "      <th>record_id</th>\n",
       "      <th>month</th>\n",
       "      <th>day</th>\n",
       "      <th>year</th>\n",
       "      <th>plot_id</th>\n",
       "      <th>species_id</th>\n",
       "      <th>sex</th>\n",
       "      <th>hindfoot_length</th>\n",
       "      <th>weight</th>\n",
       "    </tr>\n",
       "  </thead>\n",
       "  <tbody>\n",
       "    <tr>\n",
       "      <th>0</th>\n",
       "      <td>1</td>\n",
       "      <td>7</td>\n",
       "      <td>16</td>\n",
       "      <td>1977</td>\n",
       "      <td>2</td>\n",
       "      <td>NL</td>\n",
       "      <td>M</td>\n",
       "      <td>32.0</td>\n",
       "      <td>NaN</td>\n",
       "    </tr>\n",
       "    <tr>\n",
       "      <th>1</th>\n",
       "      <td>2</td>\n",
       "      <td>7</td>\n",
       "      <td>16</td>\n",
       "      <td>1977</td>\n",
       "      <td>3</td>\n",
       "      <td>NL</td>\n",
       "      <td>M</td>\n",
       "      <td>33.0</td>\n",
       "      <td>NaN</td>\n",
       "    </tr>\n",
       "    <tr>\n",
       "      <th>2</th>\n",
       "      <td>3</td>\n",
       "      <td>7</td>\n",
       "      <td>16</td>\n",
       "      <td>1977</td>\n",
       "      <td>2</td>\n",
       "      <td>DM</td>\n",
       "      <td>F</td>\n",
       "      <td>37.0</td>\n",
       "      <td>NaN</td>\n",
       "    </tr>\n",
       "    <tr>\n",
       "      <th>3</th>\n",
       "      <td>4</td>\n",
       "      <td>7</td>\n",
       "      <td>16</td>\n",
       "      <td>1977</td>\n",
       "      <td>7</td>\n",
       "      <td>DM</td>\n",
       "      <td>M</td>\n",
       "      <td>36.0</td>\n",
       "      <td>NaN</td>\n",
       "    </tr>\n",
       "    <tr>\n",
       "      <th>4</th>\n",
       "      <td>5</td>\n",
       "      <td>7</td>\n",
       "      <td>16</td>\n",
       "      <td>1977</td>\n",
       "      <td>3</td>\n",
       "      <td>DM</td>\n",
       "      <td>M</td>\n",
       "      <td>35.0</td>\n",
       "      <td>NaN</td>\n",
       "    </tr>\n",
       "  </tbody>\n",
       "</table>\n",
       "</div>"
      ],
      "text/plain": [
       "   record_id  month  day  year  plot_id species_id sex  hindfoot_length  \\\n",
       "0          1      7   16  1977        2         NL   M             32.0   \n",
       "1          2      7   16  1977        3         NL   M             33.0   \n",
       "2          3      7   16  1977        2         DM   F             37.0   \n",
       "3          4      7   16  1977        7         DM   M             36.0   \n",
       "4          5      7   16  1977        3         DM   M             35.0   \n",
       "\n",
       "   weight  \n",
       "0     NaN  \n",
       "1     NaN  \n",
       "2     NaN  \n",
       "3     NaN  \n",
       "4     NaN  "
      ]
     },
     "execution_count": 211,
     "metadata": {},
     "output_type": "execute_result"
    }
   ],
   "source": [
    "df = pd.read_csv(\"data/surveys.csv\")\n",
    "df.head()"
   ]
  },
  {
   "cell_type": "markdown",
   "id": "c217bb99",
   "metadata": {},
   "source": [
    "### Realiza una función  `sexo(col)` que tome la columan `sex` y me devuelva Masculino y Femenino: \n",
    "\n",
    "- Las M como masculino\n",
    "- Las F como femenino"
   ]
  },
  {
   "cell_type": "code",
   "execution_count": null,
   "id": "102bb822",
   "metadata": {},
   "outputs": [],
   "source": [
    "def cambio_sex (i):\n",
    "    if i == \"M\": \n",
    "        return \"Masculino\"\n",
    "    elif i == \"F\":\n",
    "        return \"Femenino\"\n",
    "    else: \n",
    "        return \"No data\"\n",
    "            "
   ]
  },
  {
   "cell_type": "code",
   "execution_count": null,
   "id": "b0759663",
   "metadata": {
    "scrolled": true
   },
   "outputs": [],
   "source": [
    "df[\"sex\"] = df[\"sex\"].apply(cambio_sex)"
   ]
  },
  {
   "cell_type": "code",
   "execution_count": null,
   "id": "2872ed2d",
   "metadata": {
    "scrolled": true
   },
   "outputs": [],
   "source": [
    "df.head(1)"
   ]
  },
  {
   "cell_type": "markdown",
   "id": "1250db9b",
   "metadata": {},
   "source": [
    "### Realiza una función `fecha(df)` que tome las columnas de `month`, `day` y `year` y nos cree una nueva columna con la fecha completa"
   ]
  },
  {
   "cell_type": "code",
   "execution_count": null,
   "id": "4b9084d3",
   "metadata": {},
   "outputs": [],
   "source": [
    "def fecha(df):\n",
    "    return str(df['year']) + \"-\" + str(df['month']) + \"-\" + str(df['day'])"
   ]
  },
  {
   "cell_type": "code",
   "execution_count": null,
   "id": "c2e0737e",
   "metadata": {},
   "outputs": [],
   "source": [
    "df[\"date\"] = df.apply(fecha, axis = 1)"
   ]
  },
  {
   "cell_type": "code",
   "execution_count": null,
   "id": "8fcab3c5",
   "metadata": {},
   "outputs": [],
   "source": [
    "df.head(3)"
   ]
  },
  {
   "cell_type": "markdown",
   "id": "38cb36a7",
   "metadata": {},
   "source": [
    "La función `apply()` aplica la función de entrada a cada elemento a lo largo de la `columna` o `columnas` del dataset"
   ]
  },
  {
   "cell_type": "markdown",
   "id": "d23a8129",
   "metadata": {},
   "source": [
    "### Vamos a meter estos datos en Mongo con una función"
   ]
  },
  {
   "cell_type": "code",
   "execution_count": 212,
   "id": "4b3dbd85",
   "metadata": {},
   "outputs": [],
   "source": [
    "from pymongo import MongoClient"
   ]
  },
  {
   "cell_type": "code",
   "execution_count": 214,
   "id": "f7c05d3e",
   "metadata": {},
   "outputs": [],
   "source": [
    "dict_df = df.to_dict(orient = \"records\")"
   ]
  },
  {
   "cell_type": "code",
   "execution_count": 226,
   "id": "d0508c4d",
   "metadata": {},
   "outputs": [
    {
     "data": {
      "text/plain": [
       "{'record_id': 2,\n",
       " 'month': 7,\n",
       " 'day': 16,\n",
       " 'year': 1977,\n",
       " 'plot_id': 3,\n",
       " 'species_id': 'NL',\n",
       " 'sex': 'M',\n",
       " 'hindfoot_length': 33.0,\n",
       " 'weight': nan,\n",
       " '_id': ObjectId('6138dd6a12c39376cc60432b')}"
      ]
     },
     "execution_count": 226,
     "metadata": {},
     "output_type": "execute_result"
    }
   ],
   "source": [
    "dict_df[1]"
   ]
  },
  {
   "cell_type": "code",
   "execution_count": 222,
   "id": "1978dd11",
   "metadata": {},
   "outputs": [],
   "source": [
    "client = MongoClient()\n",
    "db = client.numeros\n",
    "collection = db.create_collection(name = \"lluvia\")"
   ]
  },
  {
   "cell_type": "code",
   "execution_count": 224,
   "id": "1c991c28",
   "metadata": {},
   "outputs": [
    {
     "data": {
      "text/plain": [
       "<pymongo.results.InsertManyResult at 0x7faf28b7a600>"
      ]
     },
     "execution_count": 224,
     "metadata": {},
     "output_type": "execute_result"
    }
   ],
   "source": [
    "collection.insert_many(dict_df)"
   ]
  },
  {
   "cell_type": "code",
   "execution_count": null,
   "id": "290de265",
   "metadata": {},
   "outputs": [],
   "source": []
  }
 ],
 "metadata": {
  "kernelspec": {
   "display_name": "ironhack",
   "language": "python",
   "name": "ironhack"
  },
  "language_info": {
   "codemirror_mode": {
    "name": "ipython",
    "version": 3
   },
   "file_extension": ".py",
   "mimetype": "text/x-python",
   "name": "python",
   "nbconvert_exporter": "python",
   "pygments_lexer": "ipython3",
   "version": "3.8.5"
  },
  "toc": {
   "base_numbering": 1,
   "nav_menu": {},
   "number_sections": true,
   "sideBar": true,
   "skip_h1_title": false,
   "title_cell": "Table of Contents",
   "title_sidebar": "Contents",
   "toc_cell": true,
   "toc_position": {},
   "toc_section_display": true,
   "toc_window_display": false
  }
 },
 "nbformat": 4,
 "nbformat_minor": 5
}
