{
 "cells": [
  {
   "cell_type": "markdown",
   "id": "6b74f021",
   "metadata": {
    "toc": true
   },
   "source": [
    "<h1>Table of Contents<span class=\"tocSkip\"></span></h1>\n",
    "<div class=\"toc\"><ul class=\"toc-item\"><li><span><a href=\"#Ejercicios-para-poner-en-práctica-las-funciones-sencillas\" data-toc-modified-id=\"Ejercicios-para-poner-en-práctica-las-funciones-sencillas-1\"><span class=\"toc-item-num\">1&nbsp;&nbsp;</span>Ejercicios para poner en práctica las funciones sencillas</a></span><ul class=\"toc-item\"><li><span><a href=\"#Realiza-una-función-llamada-relacion(a,-b)-que-a-partir-de-dos-números-cumpla-lo-siguiente:\" data-toc-modified-id=\"Realiza-una-función-llamada-relacion(a,-b)-que-a-partir-de-dos-números-cumpla-lo-siguiente:-1.1\"><span class=\"toc-item-num\">1.1&nbsp;&nbsp;</span>Realiza una función llamada <strong>relacion(a, b)</strong> que a partir de dos números cumpla lo siguiente:</a></span></li><li><span><a href=\"#Realiza-una-función-separar(lista)-que-tome-una-lista-de-números-enteros-y-devuelva-dos-listas-ordenadas.-La-primera-con-los-números-pares-y-la-segunda-con-los-números-impares.\" data-toc-modified-id=\"Realiza-una-función-separar(lista)-que-tome-una-lista-de-números-enteros-y-devuelva-dos-listas-ordenadas.-La-primera-con-los-números-pares-y-la-segunda-con-los-números-impares.-1.2\"><span class=\"toc-item-num\">1.2&nbsp;&nbsp;</span>Realiza una función separar(lista) que tome una lista de números enteros y devuelva dos listas ordenadas. La primera con los números pares y la segunda con los números impares.</a></span></li><li><span><a href=\"#Realiza-una-función-mayuscula(string)-que-tome-un-string-como-parámetro-y-devuelva-ese-mismo-string-en-mayúsculas.\" data-toc-modified-id=\"Realiza-una-función-mayuscula(string)-que-tome-un-string-como-parámetro-y-devuelva-ese-mismo-string-en-mayúsculas.-1.3\"><span class=\"toc-item-num\">1.3&nbsp;&nbsp;</span>Realiza una función mayuscula(string) que tome un string como parámetro y devuelva ese mismo string en mayúsculas.</a></span></li><li><span><a href=\"#Realiza-una-función-frase(string)-que-tome-una-frase-y-devuelva-ese-mismo-string-dividido-sin-las-vocales\" data-toc-modified-id=\"Realiza-una-función-frase(string)-que-tome-una-frase-y-devuelva-ese-mismo-string-dividido-sin-las-vocales-1.4\"><span class=\"toc-item-num\">1.4&nbsp;&nbsp;</span>Realiza una función frase(string) que tome una frase y devuelva ese mismo string dividido sin las vocales</a></span></li></ul></li><li><span><a href=\"#Ejercicios-para-poner-en-práctica-las-funciones-con-dataframes\" data-toc-modified-id=\"Ejercicios-para-poner-en-práctica-las-funciones-con-dataframes-2\"><span class=\"toc-item-num\">2&nbsp;&nbsp;</span>Ejercicios para poner en práctica las funciones con dataframes</a></span><ul class=\"toc-item\"><li><span><a href=\"#Realiza-una-función--sexo(col)-que-tome-la-columan-sex-y-me-devuelva-Masculino-y-Femenino:\" data-toc-modified-id=\"Realiza-una-función--sexo(col)-que-tome-la-columan-sex-y-me-devuelva-Masculino-y-Femenino:-2.1\"><span class=\"toc-item-num\">2.1&nbsp;&nbsp;</span>Realiza una función  <code>sexo(col)</code> que tome la columan <code>sex</code> y me devuelva Masculino y Femenino:</a></span></li><li><span><a href=\"#Realiza-una-función-fecha(df)-que-tome-las-columnas-de-month,-day-y-year-y-nos-cree-una-nueva-columna-con-la-fecha-completa\" data-toc-modified-id=\"Realiza-una-función-fecha(df)-que-tome-las-columnas-de-month,-day-y-year-y-nos-cree-una-nueva-columna-con-la-fecha-completa-2.2\"><span class=\"toc-item-num\">2.2&nbsp;&nbsp;</span>Realiza una función <code>fecha(df)</code> que tome las columnas de <code>month</code>, <code>day</code> y <code>year</code> y nos cree una nueva columna con la fecha completa</a></span></li><li><span><a href=\"#¿Cómo-aplicar-un-apply-para-una-función-que-recibe-dos-parámetros?\" data-toc-modified-id=\"¿Cómo-aplicar-un-apply-para-una-función-que-recibe-dos-parámetros?-2.3\"><span class=\"toc-item-num\">2.3&nbsp;&nbsp;</span>¿Cómo aplicar un <code>apply</code> para una función que recibe dos parámetros?</a></span></li><li><span><a href=\"#Ejemplo-de-llamada-a-una-API\" data-toc-modified-id=\"Ejemplo-de-llamada-a-una-API-2.4\"><span class=\"toc-item-num\">2.4&nbsp;&nbsp;</span>Ejemplo de llamada a una API</a></span></li><li><span><a href=\"#Vamos-a-meter-estos-datos-en-Mongo-con-una-función\" data-toc-modified-id=\"Vamos-a-meter-estos-datos-en-Mongo-con-una-función-2.5\"><span class=\"toc-item-num\">2.5&nbsp;&nbsp;</span>Vamos a meter estos datos en Mongo con una función</a></span></li></ul></li></ul></div>"
   ]
  },
  {
   "cell_type": "markdown",
   "id": "5f60d371",
   "metadata": {},
   "source": [
    "## Ejercicios para poner en práctica las funciones sencillas"
   ]
  },
  {
   "cell_type": "markdown",
   "id": "38a56f31",
   "metadata": {},
   "source": [
    "### Realiza una función llamada **relacion(a, b)** que a partir de dos números cumpla lo siguiente:\n",
    "\n",
    "- Si el primer número es mayor que el segundo, debe devolver 1.\n",
    "- Si el primer número es menor que el segundo, debe devolver -1.\n",
    "- Si ambos números son iguales, debe devolver un 0."
   ]
  },
  {
   "cell_type": "code",
   "execution_count": null,
   "id": "3f6e69a1",
   "metadata": {},
   "outputs": [],
   "source": [
    "num1 = 19\n",
    "num2 = 10"
   ]
  },
  {
   "cell_type": "code",
   "execution_count": null,
   "id": "4d26e53c",
   "metadata": {},
   "outputs": [],
   "source": [
    "def relacion(a, b):\n",
    "    return"
   ]
  },
  {
   "cell_type": "code",
   "execution_count": null,
   "id": "f02f5000",
   "metadata": {},
   "outputs": [],
   "source": [
    "#llamamos a la función"
   ]
  },
  {
   "cell_type": "markdown",
   "id": "daadb085",
   "metadata": {},
   "source": [
    "### Realiza una función separar(lista) que tome una lista de números enteros y devuelva dos listas ordenadas. La primera con los números pares y la segunda con los números impares.\n",
    "\n"
   ]
  },
  {
   "cell_type": "code",
   "execution_count": null,
   "id": "a37184e6",
   "metadata": {},
   "outputs": [],
   "source": [
    "numbers = [1,2,3,4,5,6,7,8,9,10]"
   ]
  },
  {
   "cell_type": "code",
   "execution_count": null,
   "id": "6b2ddbb3",
   "metadata": {},
   "outputs": [],
   "source": [
    "def separar(lista):\n",
    "    return\n",
    "   "
   ]
  },
  {
   "cell_type": "code",
   "execution_count": null,
   "id": "cf8390c5",
   "metadata": {},
   "outputs": [],
   "source": [
    "# llamamos a la función\n"
   ]
  },
  {
   "cell_type": "markdown",
   "id": "f919a914",
   "metadata": {},
   "source": [
    "### Realiza una función mayuscula(string) que tome un string como parámetro y devuelva ese mismo string en mayúsculas. "
   ]
  },
  {
   "cell_type": "code",
   "execution_count": null,
   "id": "381e0ed9",
   "metadata": {},
   "outputs": [],
   "source": [
    "frase = \"hola que tal\""
   ]
  },
  {
   "cell_type": "code",
   "execution_count": null,
   "id": "f0b90158",
   "metadata": {},
   "outputs": [],
   "source": [
    "def mayuscula():\n",
    "    return\n",
    "     "
   ]
  },
  {
   "cell_type": "markdown",
   "id": "dd749d3f",
   "metadata": {},
   "source": [
    "### Realiza una función frase(string) que tome una frase y devuelva ese mismo string dividido sin las vocales\n",
    "\n",
    "*Hint* Podemos usar regex para sacar esta función (usando el método **sub**"
   ]
  },
  {
   "cell_type": "code",
   "execution_count": null,
   "id": "d4b019f0",
   "metadata": {},
   "outputs": [],
   "source": [
    "hola = \"hola que tal, las funciones molan\""
   ]
  },
  {
   "cell_type": "code",
   "execution_count": null,
   "id": "7befd7da",
   "metadata": {},
   "outputs": [],
   "source": [
    "def frase(string):\n",
    "    return"
   ]
  },
  {
   "cell_type": "markdown",
   "id": "39d25a53",
   "metadata": {},
   "source": [
    "## Ejercicios para poner en práctica las funciones con dataframes"
   ]
  },
  {
   "cell_type": "markdown",
   "id": "acb9cbea",
   "metadata": {},
   "source": [
    "Lo primero que tenemos que hacer es cargar el fichero `survey.csv` que será con el que trabajaremos"
   ]
  },
  {
   "cell_type": "code",
   "execution_count": null,
   "id": "9ff72a3c",
   "metadata": {},
   "outputs": [],
   "source": [
    "import pandas as pd\n",
    "import numpy as np"
   ]
  },
  {
   "cell_type": "code",
   "execution_count": null,
   "id": "d44fc74f",
   "metadata": {},
   "outputs": [],
   "source": [
    "df = pd.read_csv(\"data/surveys.csv\")\n",
    "df.head()"
   ]
  },
  {
   "cell_type": "markdown",
   "id": "c217bb99",
   "metadata": {},
   "source": [
    "### Realiza una función  `sexo(col)` que tome la columan `sex` y me devuelva Masculino y Femenino: \n",
    "\n",
    "- Las M como masculino\n",
    "- Las F como femenino"
   ]
  },
  {
   "cell_type": "code",
   "execution_count": null,
   "id": "102bb822",
   "metadata": {},
   "outputs": [],
   "source": [
    "def cambio_sex (df):\n",
    "    return"
   ]
  },
  {
   "cell_type": "code",
   "execution_count": null,
   "id": "b0759663",
   "metadata": {
    "scrolled": true
   },
   "outputs": [],
   "source": [
    "# llamamos a la función"
   ]
  },
  {
   "cell_type": "code",
   "execution_count": null,
   "id": "2aff56bc",
   "metadata": {},
   "outputs": [],
   "source": [
    "def cambio_sexo (col):\n",
    "    return "
   ]
  },
  {
   "cell_type": "code",
   "execution_count": null,
   "id": "4c5ae9f1",
   "metadata": {},
   "outputs": [],
   "source": [
    "#hacemos el apply"
   ]
  },
  {
   "cell_type": "markdown",
   "id": "1250db9b",
   "metadata": {},
   "source": [
    "### Realiza una función `fecha(df)` que tome las columnas de `month`, `day` y `year` y nos cree una nueva columna con la fecha completa"
   ]
  },
  {
   "cell_type": "code",
   "execution_count": null,
   "id": "4b9084d3",
   "metadata": {},
   "outputs": [],
   "source": [
    "def fecha(df):\n",
    "    return "
   ]
  },
  {
   "cell_type": "code",
   "execution_count": null,
   "id": "c2e0737e",
   "metadata": {},
   "outputs": [],
   "source": [
    "# apply\n"
   ]
  },
  {
   "cell_type": "markdown",
   "id": "38cb36a7",
   "metadata": {},
   "source": [
    "La función `apply()` aplica la función de entrada a cada elemento a lo largo de la `columna` o `columnas` del dataset"
   ]
  },
  {
   "cell_type": "markdown",
   "id": "19bead39",
   "metadata": {},
   "source": [
    "### ¿Cómo aplicar un `apply` para una función que recibe dos parámetros?"
   ]
  },
  {
   "cell_type": "code",
   "execution_count": null,
   "id": "87758632",
   "metadata": {},
   "outputs": [],
   "source": [
    "df = pd.DataFrame({'ID':['1', '2', '3'], 'year_birth': [1929,1952, 1990], 'year_death':[1999, 2015, 2020]})"
   ]
  },
  {
   "cell_type": "code",
   "execution_count": null,
   "id": "39ed849b",
   "metadata": {},
   "outputs": [],
   "source": [
    "def dife (col1, col2):\n",
    "    return"
   ]
  },
  {
   "cell_type": "code",
   "execution_count": null,
   "id": "9955b94b",
   "metadata": {},
   "outputs": [],
   "source": [
    "# lambda"
   ]
  },
  {
   "cell_type": "markdown",
   "id": "44b01de2",
   "metadata": {},
   "source": [
    "### Ejemplo de llamada a una API "
   ]
  },
  {
   "cell_type": "code",
   "execution_count": null,
   "id": "4e8e0e86",
   "metadata": {},
   "outputs": [],
   "source": [
    "import requests \n",
    "import json\n",
    "import pandas as pd\n",
    "import os\n",
    "from dotenv import load_dotenv"
   ]
  },
  {
   "cell_type": "code",
   "execution_count": null,
   "id": "31d68c30",
   "metadata": {},
   "outputs": [],
   "source": [
    "load_dotenv()"
   ]
  },
  {
   "cell_type": "code",
   "execution_count": null,
   "id": "9afc6860",
   "metadata": {},
   "outputs": [],
   "source": [
    "token1= os.getenv(\"Client_Id\")\n",
    "token2 = os.getenv(\"Client_Secret\")"
   ]
  },
  {
   "cell_type": "code",
   "execution_count": null,
   "id": "e8a57366",
   "metadata": {},
   "outputs": [],
   "source": [
    "def API(url, tokencliente, tokensecret, coordinates, *args):\n",
    "    return \n",
    "    "
   ]
  },
  {
   "cell_type": "code",
   "execution_count": null,
   "id": "e60fa037",
   "metadata": {},
   "outputs": [],
   "source": [
    "# llamamos a la funcion\n"
   ]
  }
 ],
 "metadata": {
  "kernelspec": {
   "display_name": "ironhack",
   "language": "python",
   "name": "ironhack"
  },
  "language_info": {
   "codemirror_mode": {
    "name": "ipython",
    "version": 3
   },
   "file_extension": ".py",
   "mimetype": "text/x-python",
   "name": "python",
   "nbconvert_exporter": "python",
   "pygments_lexer": "ipython3",
   "version": "3.8.5"
  },
  "toc": {
   "base_numbering": 1,
   "nav_menu": {},
   "number_sections": true,
   "sideBar": true,
   "skip_h1_title": false,
   "title_cell": "Table of Contents",
   "title_sidebar": "Contents",
   "toc_cell": true,
   "toc_position": {},
   "toc_section_display": true,
   "toc_window_display": false
  }
 },
 "nbformat": 4,
 "nbformat_minor": 5
}
