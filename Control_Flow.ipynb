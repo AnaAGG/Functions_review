{
 "cells": [
  {
   "cell_type": "markdown",
   "id": "632476db",
   "metadata": {
    "toc": true
   },
   "source": [
    "<h1>Table of Contents<span class=\"tocSkip\"></span></h1>\n",
    "<div class=\"toc\"><ul class=\"toc-item\"><li><span><a href=\"#for-exercises\" data-toc-modified-id=\"for-exercises-1\"><span class=\"toc-item-num\">1&nbsp;&nbsp;</span><code>for</code> exercises</a></span><ul class=\"toc-item\"><li><span><a href=\"#Print-first-10-numbers-using-a-for-loop\" data-toc-modified-id=\"Print-first-10-numbers-using-a-for-loop-1.1\"><span class=\"toc-item-num\">1.1&nbsp;&nbsp;</span>Print first 10 numbers using a <code>for loop</code></a></span></li><li><span><a href=\"#Print-sum-of-all-even-numbers-from-10-to-20\" data-toc-modified-id=\"Print-sum-of-all-even-numbers-from-10-to-20-1.2\"><span class=\"toc-item-num\">1.2&nbsp;&nbsp;</span>Print sum of all even numbers from 10 to 20</a></span></li><li><span><a href=\"#Calculate-the-square-of-each-number-of-list\" data-toc-modified-id=\"Calculate-the-square-of-each-number-of-list-1.3\"><span class=\"toc-item-num\">1.3&nbsp;&nbsp;</span>Calculate the square of each number of list</a></span></li><li><span><a href=\"#Calculate-the-average-of-list-of-numbers\" data-toc-modified-id=\"Calculate-the-average-of-list-of-numbers-1.4\"><span class=\"toc-item-num\">1.4&nbsp;&nbsp;</span>Calculate the average of list of numbers</a></span></li><li><span><a href=\"#Given-a-list--months-write-a-for-loop-that-return-only-the-months-beginning-with-&quot;J&quot;\" data-toc-modified-id=\"Given-a-list--months-write-a-for-loop-that-return-only-the-months-beginning-with-&quot;J&quot;-1.5\"><span class=\"toc-item-num\">1.5&nbsp;&nbsp;</span>Given a list  <code>months</code> write a <code>for loop</code> that return only the months beginning with \"J\"</a></span></li><li><span><a href=\"#Write-a-for-a-loop-that-break-when-we-found-a-number-greater-than-5.\" data-toc-modified-id=\"Write-a-for-a-loop-that-break-when-we-found-a-number-greater-than-5.-1.6\"><span class=\"toc-item-num\">1.6&nbsp;&nbsp;</span>Write a for a loop that break when we found a number greater than 5.</a></span></li><li><span><a href=\"#Reverse-a-list-using-a-loop\" data-toc-modified-id=\"Reverse-a-list-using-a-loop-1.7\"><span class=\"toc-item-num\">1.7&nbsp;&nbsp;</span>Reverse a list using a loop</a></span></li></ul></li><li><span><a href=\"#if---else-exercises\" data-toc-modified-id=\"if---else-exercises-2\"><span class=\"toc-item-num\">2&nbsp;&nbsp;</span><code>if - else</code> exercises</a></span><ul class=\"toc-item\"><li><span><a href=\"#Print-all-even-and-odd-numbers\" data-toc-modified-id=\"Print-all-even-and-odd-numbers-2.1\"><span class=\"toc-item-num\">2.1&nbsp;&nbsp;</span>Print all even and odd numbers</a></span></li><li><span><a href=\"#Take-two-int-values-from-user-and-print-greatest-among-them.\" data-toc-modified-id=\"Take-two-int-values-from-user-and-print-greatest-among-them.-2.2\"><span class=\"toc-item-num\">2.2&nbsp;&nbsp;</span>Take two int values from user and print greatest among them.</a></span></li><li><span><a href=\"#A-school-has-following-rules-for-grading-system:\" data-toc-modified-id=\"A-school-has-following-rules-for-grading-system:-2.3\"><span class=\"toc-item-num\">2.3&nbsp;&nbsp;</span>A school has following rules for grading system:</a></span></li><li><span><a href=\"#Take-input-of-age-of-3-people-by-user-and-determine-oldest-and-youngest-among-them.\" data-toc-modified-id=\"Take-input-of-age-of-3-people-by-user-and-determine-oldest-and-youngest-among-them.-2.4\"><span class=\"toc-item-num\">2.4&nbsp;&nbsp;</span>Take input of age of 3 people by user and determine oldest and youngest among them.</a></span></li><li><span><a href=\"#Break-the-loop-if-number-a-number-is-greater-than-15\" data-toc-modified-id=\"Break-the-loop-if-number-a-number-is-greater-than-15-2.5\"><span class=\"toc-item-num\">2.5&nbsp;&nbsp;</span>Break the loop if number a number is greater than 15</a></span></li><li><span><a href=\"#Write-an-if-statement-that-asks-for-the-user's-name-via-input()-function.-If-the-name-is-&quot;Bond&quot;-make-it-print-&quot;Welcome-on-board-007.&quot;-Otherwise-make-it-print-&quot;Good-morning-NAME&quot;.-(Replace-Name-with-user's-name)\" data-toc-modified-id=\"Write-an-if-statement-that-asks-for-the-user's-name-via-input()-function.-If-the-name-is-&quot;Bond&quot;-make-it-print-&quot;Welcome-on-board-007.&quot;-Otherwise-make-it-print-&quot;Good-morning-NAME&quot;.-(Replace-Name-with-user's-name)-2.6\"><span class=\"toc-item-num\">2.6&nbsp;&nbsp;</span>Write an if statement that asks for the user's name via input() function. If the name is \"Bond\" make it print \"Welcome on board 007.\" Otherwise make it print \"Good morning NAME\". (Replace Name with user's name)</a></span></li><li><span><a href=\"#tree-is-a-dictionary-showing-the-tree-number-of-countries-per-square-kilometer-for-random-countries-with-sizeable-population-numbers.-Create-a-list-named-&quot;moretrees&quot;-that-contains--the-name-of-country-names-with-more-than-20.000-trees-per-square-kilometer.\" data-toc-modified-id=\"tree-is-a-dictionary-showing-the-tree-number-of-countries-per-square-kilometer-for-random-countries-with-sizeable-population-numbers.-Create-a-list-named-&quot;moretrees&quot;-that-contains--the-name-of-country-names-with-more-than-20.000-trees-per-square-kilometer.-2.7\"><span class=\"toc-item-num\">2.7&nbsp;&nbsp;</span><code>tree</code> is a dictionary showing the tree number of countries per square kilometer for random countries with sizeable population numbers. Create a list named \"moretrees\" that contains  the name of country names with more than 20.000 trees per square kilometer.</a></span></li></ul></li></ul></div>"
   ]
  },
  {
   "cell_type": "markdown",
   "id": "0b5933f3",
   "metadata": {},
   "source": [
    "#  `for` exercises"
   ]
  },
  {
   "cell_type": "markdown",
   "id": "f4100420",
   "metadata": {},
   "source": [
    "## Print first 10 numbers using a `for loop` "
   ]
  },
  {
   "cell_type": "code",
   "execution_count": 3,
   "id": "b155690f",
   "metadata": {},
   "outputs": [
    {
     "name": "stdout",
     "output_type": "stream",
     "text": [
      "1\n",
      "2\n",
      "3\n",
      "4\n",
      "5\n",
      "6\n",
      "7\n",
      "8\n",
      "9\n",
      "10\n"
     ]
    }
   ],
   "source": [
    "for n in range(1,11):\n",
    "    print(n)"
   ]
  },
  {
   "cell_type": "markdown",
   "id": "8cc10e5d",
   "metadata": {},
   "source": [
    "##  Print sum of all even numbers from 10 to 20"
   ]
  },
  {
   "cell_type": "code",
   "execution_count": 65,
   "id": "eadbf7c2",
   "metadata": {},
   "outputs": [
    {
     "name": "stdout",
     "output_type": "stream",
     "text": [
      "70\n"
     ]
    }
   ],
   "source": [
    "sum_even = 0\n",
    "for i in range (10,20):\n",
    "    if i % 2 == 0:\n",
    "        sum_even =sum_even + i\n",
    "print(sum_even)"
   ]
  },
  {
   "cell_type": "markdown",
   "id": "28f8683b",
   "metadata": {},
   "source": [
    "## Calculate the square of each number of list "
   ]
  },
  {
   "cell_type": "code",
   "execution_count": 23,
   "id": "1e04201b",
   "metadata": {},
   "outputs": [],
   "source": [
    "numbers = [1, 2, 3, 4, 5]"
   ]
  },
  {
   "cell_type": "code",
   "execution_count": 12,
   "id": "cf92da1a",
   "metadata": {},
   "outputs": [
    {
     "name": "stdout",
     "output_type": "stream",
     "text": [
      "1\n",
      "4\n",
      "9\n",
      "16\n",
      "25\n"
     ]
    }
   ],
   "source": [
    "for i in numbers:\n",
    "    print(i**2)"
   ]
  },
  {
   "cell_type": "markdown",
   "id": "db78710d",
   "metadata": {},
   "source": [
    "##  Calculate the average of list of numbers"
   ]
  },
  {
   "cell_type": "code",
   "execution_count": 21,
   "id": "5cc22c40",
   "metadata": {},
   "outputs": [
    {
     "name": "stdout",
     "output_type": "stream",
     "text": [
      "3.0\n"
     ]
    }
   ],
   "source": [
    "suma = 0\n",
    "count = 0\n",
    "for i in numbers:\n",
    "    suma += i\n",
    "    count += 1\n",
    "average = sum / count\n",
    "print(average)"
   ]
  },
  {
   "cell_type": "code",
   "execution_count": 72,
   "id": "b91da901",
   "metadata": {},
   "outputs": [
    {
     "ename": "TypeError",
     "evalue": "'int' object is not callable",
     "output_type": "error",
     "traceback": [
      "\u001b[0;31m---------------------------------------------------------------------------\u001b[0m",
      "\u001b[0;31mTypeError\u001b[0m                                 Traceback (most recent call last)",
      "\u001b[0;32m<ipython-input-72-12c2e04b19e7>\u001b[0m in \u001b[0;36m<module>\u001b[0;34m\u001b[0m\n\u001b[0;32m----> 1\u001b[0;31m \u001b[0msuma\u001b[0m \u001b[0;34m=\u001b[0m \u001b[0msum\u001b[0m\u001b[0;34m(\u001b[0m\u001b[0mnumbers\u001b[0m\u001b[0;34m)\u001b[0m\u001b[0;34m\u001b[0m\u001b[0;34m\u001b[0m\u001b[0m\n\u001b[0m\u001b[1;32m      2\u001b[0m \u001b[0mlongitud\u001b[0m \u001b[0;34m=\u001b[0m \u001b[0mlen\u001b[0m\u001b[0;34m(\u001b[0m\u001b[0mnumbers\u001b[0m\u001b[0;34m)\u001b[0m\u001b[0;34m\u001b[0m\u001b[0;34m\u001b[0m\u001b[0m\n\u001b[1;32m      3\u001b[0m \u001b[0maverage\u001b[0m \u001b[0;34m=\u001b[0m \u001b[0msuma\u001b[0m \u001b[0;34m/\u001b[0m \u001b[0mlongitud\u001b[0m\u001b[0;34m\u001b[0m\u001b[0;34m\u001b[0m\u001b[0m\n\u001b[1;32m      4\u001b[0m \u001b[0mprint\u001b[0m\u001b[0;34m(\u001b[0m\u001b[0maverage\u001b[0m\u001b[0;34m)\u001b[0m\u001b[0;34m\u001b[0m\u001b[0;34m\u001b[0m\u001b[0m\n",
      "\u001b[0;31mTypeError\u001b[0m: 'int' object is not callable"
     ]
    }
   ],
   "source": [
    "suma = sum(numbers) #por qué me da error?????????\n",
    "longitud = len(numbers)\n",
    "average = suma / longitud\n",
    "print(average)"
   ]
  },
  {
   "cell_type": "markdown",
   "id": "f6759e76",
   "metadata": {},
   "source": [
    "## Given a list  `months` write a `for loop` that return only the months beginning with \"J\""
   ]
  },
  {
   "cell_type": "code",
   "execution_count": 29,
   "id": "89bc931a",
   "metadata": {},
   "outputs": [],
   "source": [
    "months = ['January', 'February', 'March', 'April', 'May',\n",
    "          'June', 'July', 'August', 'September', 'October', \n",
    "          'November', 'December']"
   ]
  },
  {
   "cell_type": "code",
   "execution_count": 75,
   "id": "4fb0a095",
   "metadata": {},
   "outputs": [
    {
     "name": "stdout",
     "output_type": "stream",
     "text": [
      "January\n",
      "June\n",
      "July\n"
     ]
    }
   ],
   "source": [
    "for i in months:\n",
    "    if i[0] == \"J\":\n",
    "        print(i)\n",
    "    "
   ]
  },
  {
   "cell_type": "code",
   "execution_count": 77,
   "id": "081bdacc",
   "metadata": {},
   "outputs": [
    {
     "name": "stdout",
     "output_type": "stream",
     "text": [
      "['January', 'June', 'July']\n"
     ]
    }
   ],
   "source": [
    "mesesJota =[]\n",
    "for mes in months:\n",
    "    if mes[0] == \"J\":\n",
    "        mesesJota.append(mes)\n",
    "print(mesesJota)"
   ]
  },
  {
   "cell_type": "markdown",
   "id": "a7fb54be",
   "metadata": {},
   "source": [
    "## Write a for a loop that break when we found a number greater than 5.\n",
    "\n",
    "*HINT*: Example of using a break statement"
   ]
  },
  {
   "cell_type": "code",
   "execution_count": 82,
   "id": "e44617ee",
   "metadata": {},
   "outputs": [
    {
     "name": "stdout",
     "output_type": "stream",
     "text": [
      "2\n",
      "5\n",
      "4\n"
     ]
    }
   ],
   "source": [
    "lista_inventada = [2,5,4,8,9]\n",
    "for numero in lista_inventada:\n",
    "    if numero>5: break\n",
    "    print(numero)# me imprime los números de la lista hasta que break"
   ]
  },
  {
   "cell_type": "code",
   "execution_count": 83,
   "id": "a8ae5112",
   "metadata": {},
   "outputs": [
    {
     "name": "stdout",
     "output_type": "stream",
     "text": [
      "8\n"
     ]
    }
   ],
   "source": [
    "lista_inventada = [2,5,4,8,9]\n",
    "for numero in lista_inventada:\n",
    "    if numero>5: break\n",
    "print(numero)#como el print está fuera del for, me imprime el primer numero que me hace break"
   ]
  },
  {
   "cell_type": "markdown",
   "id": "ccdc0926",
   "metadata": {},
   "source": [
    "## Reverse a list using a loop"
   ]
  },
  {
   "cell_type": "code",
   "execution_count": 86,
   "id": "d3847a16",
   "metadata": {},
   "outputs": [],
   "source": [
    "numbers = [1, 2, 3, 4]"
   ]
  },
  {
   "cell_type": "code",
   "execution_count": 87,
   "id": "dc275bf5",
   "metadata": {},
   "outputs": [
    {
     "data": {
      "text/plain": [
       "4"
      ]
     },
     "execution_count": 87,
     "metadata": {},
     "output_type": "execute_result"
    }
   ],
   "source": [
    "len(numbers)"
   ]
  },
  {
   "cell_type": "code",
   "execution_count": 91,
   "id": "1e7f8a16",
   "metadata": {},
   "outputs": [
    {
     "name": "stdout",
     "output_type": "stream",
     "text": [
      "[4, 3, 2, 1]\n"
     ]
    }
   ],
   "source": [
    "numbers_reverse=[]\n",
    "posicion = len(numbers)-1\n",
    "for numero in numbers:\n",
    "        numbers_reverse.append(numbers[posicion])\n",
    "        posicion -=1\n",
    "\n",
    "print(numbers_reverse)"
   ]
  },
  {
   "cell_type": "markdown",
   "id": "bd0253c1",
   "metadata": {},
   "source": [
    "# `if - else` exercises"
   ]
  },
  {
   "cell_type": "markdown",
   "id": "0b1214eb",
   "metadata": {},
   "source": [
    "## Print all even and odd numbers"
   ]
  },
  {
   "cell_type": "code",
   "execution_count": null,
   "id": "d5681a09",
   "metadata": {},
   "outputs": [],
   "source": [
    "#???????"
   ]
  },
  {
   "cell_type": "markdown",
   "id": "7359c08b",
   "metadata": {},
   "source": [
    "## Take two int values from user and print greatest among them."
   ]
  },
  {
   "cell_type": "code",
   "execution_count": 102,
   "id": "e3438a90",
   "metadata": {},
   "outputs": [
    {
     "name": "stdout",
     "output_type": "stream",
     "text": [
      "Dame dos valores [ , ]21\n",
      "valor1 greatest\n"
     ]
    }
   ],
   "source": [
    "comparar_valores = list(input(\"Dame dos valores [ , ]\"))\n",
    "\n",
    "valor1= comparar_valores[0]\n",
    "valor2= comparar_valores[1]\n",
    "if valor1>valor2:\n",
    "    print(\"valor1 greatest\")\n",
    "else:\n",
    "    print(\"Valor2 greatest\") #si meto con coma, me compara el primer valor con la coma"
   ]
  },
  {
   "cell_type": "markdown",
   "id": "4cf42bba",
   "metadata": {},
   "source": [
    "## A school has following rules for grading system:\n",
    "    a. Below 25 - F\n",
    "    b. 25 to 45 - E\n",
    "    c. 45 to 50 - D\n",
    "    d. 50 to 60 - C\n",
    "    e. 60 to 80 - B\n",
    "    f. Above 80 - A\n",
    "Ask user to enter marks and print the corresponding grade."
   ]
  },
  {
   "cell_type": "code",
   "execution_count": 92,
   "id": "e946b2f1",
   "metadata": {},
   "outputs": [
    {
     "name": "stdout",
     "output_type": "stream",
     "text": [
      "Enter you mark: 35\n",
      "E\n"
     ]
    }
   ],
   "source": [
    "marks= int(input(\"Enter you mark: \"))\n",
    "if marks < 25:\n",
    "    print (\"F\")\n",
    "elif marks >= 25 and marks <45:\n",
    "    print (\"E\")\n",
    "elif marks >= 45 and marks <50:\n",
    "    print (\"D\")\n",
    "elif marks >= 50 and marks <60:\n",
    "    print (\"C\")\n",
    "elif marks >= 60 and marks <80:\n",
    "    print (\"B\")\n",
    "else:\n",
    "    print(\"A\")"
   ]
  },
  {
   "cell_type": "markdown",
   "id": "6d07f023",
   "metadata": {},
   "source": [
    "## Take input of age of 3 people by user and determine oldest and youngest among them."
   ]
  },
  {
   "cell_type": "code",
   "execution_count": 64,
   "id": "ea759568",
   "metadata": {},
   "outputs": [
    {
     "name": "stdout",
     "output_type": "stream",
     "text": [
      "enter your age: 2\n",
      "enter your age: 4\n",
      "enter your age: 6\n",
      "Person 3 is oldest\n"
     ]
    }
   ],
   "source": [
    "#age = list(input(\"enter your ages [, , ]\")) --> como le tengo que preguntar a tres personas creo 3 inputs\n",
    "person1= int(input(\"enter your age: \"))\n",
    "person2= int(input(\"enter your age: \"))\n",
    "person3= int(input(\"enter your age: \"))\n",
    "if person1 > person2 and person1 > person3:\n",
    "    print(\"Person 1 is oldest\")\n",
    "elif person2 > person1 and person2 > person3:\n",
    "    print(\"Person 2 is oldest\")\n",
    "elif person3 > person1 and person3 > person2:\n",
    "    print(\"Person 3 is oldest\")"
   ]
  },
  {
   "cell_type": "markdown",
   "id": "b851b059",
   "metadata": {},
   "source": [
    "##  Break the loop if number a number is greater than 15\n",
    "*HINT* : use a break statment\n"
   ]
  },
  {
   "cell_type": "code",
   "execution_count": 3,
   "id": "8f33c4ac",
   "metadata": {},
   "outputs": [],
   "source": [
    "numbers = [1, 4, 7, 8, 15, 20, 35, 45, 55]"
   ]
  },
  {
   "cell_type": "markdown",
   "id": "1add69ea",
   "metadata": {},
   "source": [
    "## Write an if statement that asks for the user's name via input() function. If the name is \"Bond\" make it print \"Welcome on board 007.\" Otherwise make it print \"Good morning NAME\". (Replace Name with user's name) "
   ]
  },
  {
   "cell_type": "code",
   "execution_count": 108,
   "id": "3f00222a",
   "metadata": {},
   "outputs": [
    {
     "name": "stdout",
     "output_type": "stream",
     "text": [
      "Enter your name: Bond\n",
      "Welcome on board 007\n"
     ]
    }
   ],
   "source": [
    "names= input(\"Enter your name: \")\n",
    "if names == \"Bond\":\n",
    "    print(\"Welcome on board 007\")\n",
    "else:\n",
    "    print(\"Good morning\",names)"
   ]
  },
  {
   "cell_type": "markdown",
   "id": "d4e419bb",
   "metadata": {},
   "source": [
    "## `tree` is a dictionary showing the tree number of countries per square kilometer for random countries with sizeable population numbers. Create a list named \"moretrees\" that contains  the name of country names with more than 20.000 trees per square kilometer. "
   ]
  },
  {
   "cell_type": "code",
   "execution_count": 128,
   "id": "d814120d",
   "metadata": {},
   "outputs": [],
   "source": [
    "tree = {\"Finland\": 90652, \"Taiwan\": 69593,\n",
    "               \"Japan\": 49894, \"Russia\": 41396, \"Brazil\": 39542, \n",
    "               \"Canada\": 36388, \"Bulgaria\": 24987, \n",
    "               \"France\": 24436, \"Greece\": 24323,\n",
    "               \"United States\": 23513, \"Turkey\": 11126, \n",
    "               \"India\": 11109, \"Denmark\": 6129, \"Syria\": 534,\n",
    "               \"Saudi Arabia\": 1}\n"
   ]
  },
  {
   "cell_type": "code",
   "execution_count": 130,
   "id": "9c631a6c",
   "metadata": {},
   "outputs": [],
   "source": [
    "treeees = {'key': 3, 'otra_key': 5, 'hola': 2, 'notengomásideas': 2}"
   ]
  },
  {
   "cell_type": "code",
   "execution_count": 131,
   "id": "71d0a84d",
   "metadata": {},
   "outputs": [
    {
     "ename": "TypeError",
     "evalue": "'builtin_function_or_method' object is not iterable",
     "output_type": "error",
     "traceback": [
      "\u001b[0;31m---------------------------------------------------------------------------\u001b[0m",
      "\u001b[0;31mTypeError\u001b[0m                                 Traceback (most recent call last)",
      "\u001b[0;32m<ipython-input-131-b16f6b86b861>\u001b[0m in \u001b[0;36m<module>\u001b[0;34m\u001b[0m\n\u001b[1;32m      1\u001b[0m \u001b[0mmoretrees\u001b[0m \u001b[0;34m=\u001b[0m\u001b[0;34m[\u001b[0m\u001b[0;34m]\u001b[0m\u001b[0;34m\u001b[0m\u001b[0;34m\u001b[0m\u001b[0m\n\u001b[0;32m----> 2\u001b[0;31m \u001b[0;32mfor\u001b[0m \u001b[0mkey\u001b[0m\u001b[0;34m,\u001b[0m\u001b[0mvalue\u001b[0m \u001b[0;32min\u001b[0m \u001b[0mtreeees\u001b[0m\u001b[0;34m.\u001b[0m\u001b[0mitems\u001b[0m\u001b[0;34m:\u001b[0m\u001b[0;34m\u001b[0m\u001b[0;34m\u001b[0m\u001b[0m\n\u001b[0m\u001b[1;32m      3\u001b[0m     \u001b[0;32mif\u001b[0m \u001b[0mvalue\u001b[0m\u001b[0;34m>\u001b[0m\u001b[0;36m20000\u001b[0m\u001b[0;34m:\u001b[0m\u001b[0;34m\u001b[0m\u001b[0;34m\u001b[0m\u001b[0m\n\u001b[1;32m      4\u001b[0m         \u001b[0mmoretrees\u001b[0m\u001b[0;34m.\u001b[0m\u001b[0mappend\u001b[0m\u001b[0;34m(\u001b[0m\u001b[0mkey\u001b[0m\u001b[0;34m)\u001b[0m\u001b[0;34m\u001b[0m\u001b[0;34m\u001b[0m\u001b[0m\n\u001b[1;32m      5\u001b[0m \u001b[0mprint\u001b[0m\u001b[0;34m(\u001b[0m\u001b[0mmoretrees\u001b[0m\u001b[0;34m)\u001b[0m\u001b[0;34m\u001b[0m\u001b[0;34m\u001b[0m\u001b[0m\n",
      "\u001b[0;31mTypeError\u001b[0m: 'builtin_function_or_method' object is not iterable"
     ]
    }
   ],
   "source": [
    "moretrees =[]\n",
    "for key,value in tree.items:\n",
    "    if value>20000:\n",
    "        moretrees.append(key)\n",
    "print(moretrees) # no entiendo por qué no funciona"
   ]
  },
  {
   "cell_type": "code",
   "execution_count": null,
   "id": "c173454f",
   "metadata": {},
   "outputs": [],
   "source": []
  }
 ],
 "metadata": {
  "kernelspec": {
   "display_name": "Python 3",
   "language": "python",
   "name": "python3"
  },
  "language_info": {
   "codemirror_mode": {
    "name": "ipython",
    "version": 3
   },
   "file_extension": ".py",
   "mimetype": "text/x-python",
   "name": "python",
   "nbconvert_exporter": "python",
   "pygments_lexer": "ipython3",
   "version": "3.8.8"
  },
  "toc": {
   "base_numbering": 1,
   "nav_menu": {},
   "number_sections": true,
   "sideBar": true,
   "skip_h1_title": false,
   "title_cell": "Table of Contents",
   "title_sidebar": "Contents",
   "toc_cell": true,
   "toc_position": {},
   "toc_section_display": true,
   "toc_window_display": false
  }
 },
 "nbformat": 4,
 "nbformat_minor": 5
}
