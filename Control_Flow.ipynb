{
 "cells": [
  {
   "cell_type": "markdown",
   "id": "632476db",
   "metadata": {
    "toc": true
   },
   "source": [
    "<h1>Table of Contents<span class=\"tocSkip\"></span></h1>\n",
    "<div class=\"toc\"><ul class=\"toc-item\"><li><span><a href=\"#for-exercises\" data-toc-modified-id=\"for-exercises-1\"><span class=\"toc-item-num\">1&nbsp;&nbsp;</span><code>for</code> exercises</a></span><ul class=\"toc-item\"><li><span><a href=\"#Print-first-10-numbers-using-a-for-loop\" data-toc-modified-id=\"Print-first-10-numbers-using-a-for-loop-1.1\"><span class=\"toc-item-num\">1.1&nbsp;&nbsp;</span>Print first 10 numbers using a <code>for loop</code></a></span></li><li><span><a href=\"#Print-sum-of-all-even-numbers-from-10-to-20\" data-toc-modified-id=\"Print-sum-of-all-even-numbers-from-10-to-20-1.2\"><span class=\"toc-item-num\">1.2&nbsp;&nbsp;</span>Print sum of all even numbers from 10 to 20</a></span></li><li><span><a href=\"#Calculate-the-square-of-each-number-of-list\" data-toc-modified-id=\"Calculate-the-square-of-each-number-of-list-1.3\"><span class=\"toc-item-num\">1.3&nbsp;&nbsp;</span>Calculate the square of each number of list</a></span></li><li><span><a href=\"#Calculate-the-average-of-list-of-numbers\" data-toc-modified-id=\"Calculate-the-average-of-list-of-numbers-1.4\"><span class=\"toc-item-num\">1.4&nbsp;&nbsp;</span>Calculate the average of list of numbers</a></span></li><li><span><a href=\"#Given-a-list--months-write-a-for-loop-that-return-only-the-months-beginning-with-&quot;J&quot;\" data-toc-modified-id=\"Given-a-list--months-write-a-for-loop-that-return-only-the-months-beginning-with-&quot;J&quot;-1.5\"><span class=\"toc-item-num\">1.5&nbsp;&nbsp;</span>Given a list  <code>months</code> write a <code>for loop</code> that return only the months beginning with \"J\"</a></span></li><li><span><a href=\"#Write-a-for-a-loop-that-break-when-we-found-a-number-greater-than-5.\" data-toc-modified-id=\"Write-a-for-a-loop-that-break-when-we-found-a-number-greater-than-5.-1.6\"><span class=\"toc-item-num\">1.6&nbsp;&nbsp;</span>Write a for a loop that break when we found a number greater than 5.</a></span></li><li><span><a href=\"#Reverse-a-list-using-a-loop\" data-toc-modified-id=\"Reverse-a-list-using-a-loop-1.7\"><span class=\"toc-item-num\">1.7&nbsp;&nbsp;</span>Reverse a list using a loop</a></span></li></ul></li><li><span><a href=\"#if---else-exercises\" data-toc-modified-id=\"if---else-exercises-2\"><span class=\"toc-item-num\">2&nbsp;&nbsp;</span><code>if - else</code> exercises</a></span><ul class=\"toc-item\"><li><span><a href=\"#Print-all-even-and-odd-numbers\" data-toc-modified-id=\"Print-all-even-and-odd-numbers-2.1\"><span class=\"toc-item-num\">2.1&nbsp;&nbsp;</span>Print all even and odd numbers</a></span></li><li><span><a href=\"#Take-two-int-values-from-user-and-print-greatest-among-them.\" data-toc-modified-id=\"Take-two-int-values-from-user-and-print-greatest-among-them.-2.2\"><span class=\"toc-item-num\">2.2&nbsp;&nbsp;</span>Take two int values from user and print greatest among them.</a></span></li><li><span><a href=\"#A-school-has-following-rules-for-grading-system:\" data-toc-modified-id=\"A-school-has-following-rules-for-grading-system:-2.3\"><span class=\"toc-item-num\">2.3&nbsp;&nbsp;</span>A school has following rules for grading system:</a></span></li><li><span><a href=\"#Take-input-of-age-of-3-people-by-user-and-determine-oldest-and-youngest-among-them.\" data-toc-modified-id=\"Take-input-of-age-of-3-people-by-user-and-determine-oldest-and-youngest-among-them.-2.4\"><span class=\"toc-item-num\">2.4&nbsp;&nbsp;</span>Take input of age of 3 people by user and determine oldest and youngest among them.</a></span></li><li><span><a href=\"#Break-the-loop-if-number-a-number-is-greater-than-15\" data-toc-modified-id=\"Break-the-loop-if-number-a-number-is-greater-than-15-2.5\"><span class=\"toc-item-num\">2.5&nbsp;&nbsp;</span>Break the loop if number a number is greater than 15</a></span></li><li><span><a href=\"#Write-an-if-statement-that-asks-for-the-user's-name-via-input()-function.-If-the-name-is-&quot;Bond&quot;-make-it-print-&quot;Welcome-on-board-007.&quot;-Otherwise-make-it-print-&quot;Good-morning-NAME&quot;.-(Replace-Name-with-user's-name)\" data-toc-modified-id=\"Write-an-if-statement-that-asks-for-the-user's-name-via-input()-function.-If-the-name-is-&quot;Bond&quot;-make-it-print-&quot;Welcome-on-board-007.&quot;-Otherwise-make-it-print-&quot;Good-morning-NAME&quot;.-(Replace-Name-with-user's-name)-2.6\"><span class=\"toc-item-num\">2.6&nbsp;&nbsp;</span>Write an if statement that asks for the user's name via input() function. If the name is \"Bond\" make it print \"Welcome on board 007.\" Otherwise make it print \"Good morning NAME\". (Replace Name with user's name)</a></span></li><li><span><a href=\"#tree-is-a-dictionary-showing-the-tree-number-of-countries-per-square-kilometer-for-random-countries-with-sizeable-population-numbers.-Create-a-list-named-&quot;moretrees&quot;-that-contains--the-name-of-country-names-with-more-than-20.000-trees-per-square-kilometer.\" data-toc-modified-id=\"tree-is-a-dictionary-showing-the-tree-number-of-countries-per-square-kilometer-for-random-countries-with-sizeable-population-numbers.-Create-a-list-named-&quot;moretrees&quot;-that-contains--the-name-of-country-names-with-more-than-20.000-trees-per-square-kilometer.-2.7\"><span class=\"toc-item-num\">2.7&nbsp;&nbsp;</span><code>tree</code> is a dictionary showing the tree number of countries per square kilometer for random countries with sizeable population numbers. Create a list named \"moretrees\" that contains  the name of country names with more than 20.000 trees per square kilometer.</a></span></li></ul></li></ul></div>"
   ]
  },
  {
   "cell_type": "markdown",
   "id": "0b5933f3",
   "metadata": {},
   "source": [
    "#  `for` exercises"
   ]
  },
  {
   "cell_type": "markdown",
   "id": "f4100420",
   "metadata": {},
   "source": [
    "## Print first 10 numbers using a `for loop` "
   ]
  },
  {
   "cell_type": "code",
   "execution_count": null,
   "id": "b155690f",
   "metadata": {},
   "outputs": [],
   "source": []
  },
  {
   "cell_type": "markdown",
   "id": "8cc10e5d",
   "metadata": {},
   "source": [
    "##  Print sum of all even numbers from 10 to 20"
   ]
  },
  {
   "cell_type": "code",
   "execution_count": null,
   "id": "eadbf7c2",
   "metadata": {},
   "outputs": [],
   "source": []
  },
  {
   "cell_type": "markdown",
   "id": "28f8683b",
   "metadata": {},
   "source": [
    "## Calculate the square of each number of list "
   ]
  },
  {
   "cell_type": "code",
   "execution_count": 2,
   "id": "1e04201b",
   "metadata": {},
   "outputs": [],
   "source": [
    "numbers = [1, 2, 3, 4, 5]"
   ]
  },
  {
   "cell_type": "code",
   "execution_count": null,
   "id": "cf92da1a",
   "metadata": {},
   "outputs": [],
   "source": []
  },
  {
   "cell_type": "markdown",
   "id": "db78710d",
   "metadata": {},
   "source": [
    "##  Calculate the average of list of numbers"
   ]
  },
  {
   "cell_type": "code",
   "execution_count": null,
   "id": "5cc22c40",
   "metadata": {},
   "outputs": [],
   "source": []
  },
  {
   "cell_type": "markdown",
   "id": "f6759e76",
   "metadata": {},
   "source": [
    "## Given a list  `months` write a `for loop` that return only the months beginning with \"J\""
   ]
  },
  {
   "cell_type": "code",
   "execution_count": 1,
   "id": "89bc931a",
   "metadata": {},
   "outputs": [],
   "source": [
    "months = ['January', 'February', 'March', 'April', 'May',\n",
    "          'June', 'July', 'August', 'September', 'October', \n",
    "          'November', 'December']"
   ]
  },
  {
   "cell_type": "code",
   "execution_count": null,
   "id": "4fb0a095",
   "metadata": {},
   "outputs": [],
   "source": []
  },
  {
   "cell_type": "markdown",
   "id": "a7fb54be",
   "metadata": {},
   "source": [
    "## Write a for a loop that break when we found a number greater than 5.\n",
    "\n",
    "*HINT*: Example of using a break statement"
   ]
  },
  {
   "cell_type": "code",
   "execution_count": null,
   "id": "e44617ee",
   "metadata": {},
   "outputs": [],
   "source": []
  },
  {
   "cell_type": "markdown",
   "id": "ccdc0926",
   "metadata": {},
   "source": [
    "## Reverse a list using a loop"
   ]
  },
  {
   "cell_type": "code",
   "execution_count": 4,
   "id": "d3847a16",
   "metadata": {},
   "outputs": [],
   "source": [
    "numbers = [1, 2, 3, 4]"
   ]
  },
  {
   "cell_type": "code",
   "execution_count": null,
   "id": "1e7f8a16",
   "metadata": {},
   "outputs": [],
   "source": []
  },
  {
   "cell_type": "markdown",
   "id": "bd0253c1",
   "metadata": {},
   "source": [
    "# `if - else` exercises"
   ]
  },
  {
   "cell_type": "markdown",
   "id": "0b1214eb",
   "metadata": {},
   "source": [
    "## Print all even and odd numbers"
   ]
  },
  {
   "cell_type": "code",
   "execution_count": null,
   "id": "d5681a09",
   "metadata": {},
   "outputs": [],
   "source": []
  },
  {
   "cell_type": "markdown",
   "id": "7359c08b",
   "metadata": {},
   "source": [
    "## Take two int values from user and print greatest among them."
   ]
  },
  {
   "cell_type": "code",
   "execution_count": null,
   "id": "e3438a90",
   "metadata": {},
   "outputs": [],
   "source": []
  },
  {
   "cell_type": "markdown",
   "id": "4cf42bba",
   "metadata": {},
   "source": [
    "## A school has following rules for grading system:\n",
    "    a. Below 25 - F\n",
    "    b. 25 to 45 - E\n",
    "    c. 45 to 50 - D\n",
    "    d. 50 to 60 - C\n",
    "    e. 60 to 80 - B\n",
    "    f. Above 80 - A\n",
    "Ask user to enter marks and print the corresponding grade."
   ]
  },
  {
   "cell_type": "code",
   "execution_count": null,
   "id": "e946b2f1",
   "metadata": {},
   "outputs": [],
   "source": []
  },
  {
   "cell_type": "markdown",
   "id": "6d07f023",
   "metadata": {},
   "source": [
    "## Take input of age of 3 people by user and determine oldest and youngest among them."
   ]
  },
  {
   "cell_type": "code",
   "execution_count": null,
   "id": "ea759568",
   "metadata": {},
   "outputs": [],
   "source": []
  },
  {
   "cell_type": "markdown",
   "id": "b851b059",
   "metadata": {},
   "source": [
    "##  Break the loop if number a number is greater than 15\n",
    "*HINT* : use a break statment\n"
   ]
  },
  {
   "cell_type": "code",
   "execution_count": 3,
   "id": "8f33c4ac",
   "metadata": {},
   "outputs": [],
   "source": [
    "numbers = [1, 4, 7, 8, 15, 20, 35, 45, 55]"
   ]
  },
  {
   "cell_type": "markdown",
   "id": "1add69ea",
   "metadata": {},
   "source": [
    "## Write an if statement that asks for the user's name via input() function. If the name is \"Bond\" make it print \"Welcome on board 007.\" Otherwise make it print \"Good morning NAME\". (Replace Name with user's name) "
   ]
  },
  {
   "cell_type": "code",
   "execution_count": null,
   "id": "3f00222a",
   "metadata": {},
   "outputs": [],
   "source": []
  },
  {
   "cell_type": "markdown",
   "id": "d4e419bb",
   "metadata": {},
   "source": [
    "## `tree` is a dictionary showing the tree number of countries per square kilometer for random countries with sizeable population numbers. Create a list named \"moretrees\" that contains  the name of country names with more than 20.000 trees per square kilometer. "
   ]
  },
  {
   "cell_type": "code",
   "execution_count": 5,
   "id": "d814120d",
   "metadata": {},
   "outputs": [],
   "source": [
    "tree = {\"Finland\": 90652, \"Taiwan\": 69593,\n",
    "               \"Japan\": 49894, \"Russia\": 41396, \"Brazil\": 39542, \n",
    "               \"Canada\": 36388, \"Bulgaria\": 24987, \n",
    "               \"France\": 24436, \"Greece\": 24323,\n",
    "               \"United States\": 23513, \"Turkey\": 11126, \n",
    "               \"India\": 11109, \"Denmark\": 6129, \"Syria\": 534,\n",
    "               \"Saudi Arabia\": 1}\n"
   ]
  },
  {
   "cell_type": "code",
   "execution_count": null,
   "id": "71d0a84d",
   "metadata": {},
   "outputs": [],
   "source": []
  }
 ],
 "metadata": {
  "kernelspec": {
   "display_name": "Python 3 (ipykernel)",
   "language": "python",
   "name": "python3"
  },
  "language_info": {
   "codemirror_mode": {
    "name": "ipython",
    "version": 3
   },
   "file_extension": ".py",
   "mimetype": "text/x-python",
   "name": "python",
   "nbconvert_exporter": "python",
   "pygments_lexer": "ipython3",
   "version": "3.9.6"
  },
  "toc": {
   "base_numbering": 1,
   "nav_menu": {},
   "number_sections": true,
   "sideBar": true,
   "skip_h1_title": false,
   "title_cell": "Table of Contents",
   "title_sidebar": "Contents",
   "toc_cell": true,
   "toc_position": {},
   "toc_section_display": true,
   "toc_window_display": false
  }
 },
 "nbformat": 4,
 "nbformat_minor": 5
}
